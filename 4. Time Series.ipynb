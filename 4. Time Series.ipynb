{
 "cells": [
  {
   "cell_type": "markdown",
   "id": "ffc511c5",
   "metadata": {},
   "source": [
    "# Sales Prediction Using Time Series"
   ]
  },
  {
   "cell_type": "markdown",
   "id": "e1472a64",
   "metadata": {},
   "source": [
    "### Required Packages"
   ]
  },
  {
   "cell_type": "code",
   "execution_count": 1,
   "id": "d1b066bf",
   "metadata": {},
   "outputs": [],
   "source": [
    "import numpy as np\n",
    "import pandas as pd\n",
    "import matplotlib.pylab as plt\n",
    "%matplotlib inline"
   ]
  },
  {
   "cell_type": "markdown",
   "id": "8492330b",
   "metadata": {},
   "source": [
    "### Importing Data"
   ]
  },
  {
   "cell_type": "code",
   "execution_count": 2,
   "id": "f50053f8",
   "metadata": {},
   "outputs": [
    {
     "data": {
      "text/html": [
       "<div>\n",
       "<style scoped>\n",
       "    .dataframe tbody tr th:only-of-type {\n",
       "        vertical-align: middle;\n",
       "    }\n",
       "\n",
       "    .dataframe tbody tr th {\n",
       "        vertical-align: top;\n",
       "    }\n",
       "\n",
       "    .dataframe thead th {\n",
       "        text-align: right;\n",
       "    }\n",
       "</style>\n",
       "<table border=\"1\" class=\"dataframe\">\n",
       "  <thead>\n",
       "    <tr style=\"text-align: right;\">\n",
       "      <th></th>\n",
       "      <th>sl_no</th>\n",
       "      <th>Invoice</th>\n",
       "      <th>StockCode</th>\n",
       "      <th>Description</th>\n",
       "      <th>Quantity</th>\n",
       "      <th>InvoiceDate</th>\n",
       "      <th>Date</th>\n",
       "      <th>Time</th>\n",
       "      <th>Price</th>\n",
       "      <th>Customer ID</th>\n",
       "      <th>Country</th>\n",
       "      <th>Total_price</th>\n",
       "      <th>gender</th>\n",
       "      <th>Age</th>\n",
       "    </tr>\n",
       "  </thead>\n",
       "  <tbody>\n",
       "    <tr>\n",
       "      <th>0</th>\n",
       "      <td>0</td>\n",
       "      <td>489434</td>\n",
       "      <td>85048</td>\n",
       "      <td>15CM CHRISTMAS GLASS BALL 20 LIGHTS</td>\n",
       "      <td>12</td>\n",
       "      <td>12-01-2009 07:45</td>\n",
       "      <td>01-12-2009</td>\n",
       "      <td>07:45:00</td>\n",
       "      <td>6.95</td>\n",
       "      <td>13085</td>\n",
       "      <td>United Kingdom</td>\n",
       "      <td>83.4</td>\n",
       "      <td>male</td>\n",
       "      <td>22</td>\n",
       "    </tr>\n",
       "    <tr>\n",
       "      <th>1</th>\n",
       "      <td>1</td>\n",
       "      <td>489434</td>\n",
       "      <td>79323P</td>\n",
       "      <td>PINK CHERRY LIGHTS</td>\n",
       "      <td>12</td>\n",
       "      <td>12-01-2009 07:45</td>\n",
       "      <td>01-12-2009</td>\n",
       "      <td>07:45:00</td>\n",
       "      <td>6.75</td>\n",
       "      <td>13085</td>\n",
       "      <td>United Kingdom</td>\n",
       "      <td>81.0</td>\n",
       "      <td>male</td>\n",
       "      <td>22</td>\n",
       "    </tr>\n",
       "    <tr>\n",
       "      <th>2</th>\n",
       "      <td>2</td>\n",
       "      <td>489434</td>\n",
       "      <td>79323W</td>\n",
       "      <td>WHITE CHERRY LIGHTS</td>\n",
       "      <td>12</td>\n",
       "      <td>12-01-2009 07:45</td>\n",
       "      <td>01-12-2009</td>\n",
       "      <td>07:45:00</td>\n",
       "      <td>6.75</td>\n",
       "      <td>13085</td>\n",
       "      <td>United Kingdom</td>\n",
       "      <td>81.0</td>\n",
       "      <td>male</td>\n",
       "      <td>22</td>\n",
       "    </tr>\n",
       "    <tr>\n",
       "      <th>3</th>\n",
       "      <td>3</td>\n",
       "      <td>489434</td>\n",
       "      <td>22041</td>\n",
       "      <td>RECORD FRAME 7\" SINGLE SIZE</td>\n",
       "      <td>48</td>\n",
       "      <td>12-01-2009 07:45</td>\n",
       "      <td>01-12-2009</td>\n",
       "      <td>07:45:00</td>\n",
       "      <td>2.10</td>\n",
       "      <td>13085</td>\n",
       "      <td>United Kingdom</td>\n",
       "      <td>100.8</td>\n",
       "      <td>male</td>\n",
       "      <td>22</td>\n",
       "    </tr>\n",
       "    <tr>\n",
       "      <th>4</th>\n",
       "      <td>4</td>\n",
       "      <td>489434</td>\n",
       "      <td>21232</td>\n",
       "      <td>STRAWBERRY CERAMIC TRINKET BOX</td>\n",
       "      <td>24</td>\n",
       "      <td>12-01-2009 07:45</td>\n",
       "      <td>01-12-2009</td>\n",
       "      <td>07:45:00</td>\n",
       "      <td>1.25</td>\n",
       "      <td>13085</td>\n",
       "      <td>United Kingdom</td>\n",
       "      <td>30.0</td>\n",
       "      <td>male</td>\n",
       "      <td>22</td>\n",
       "    </tr>\n",
       "  </tbody>\n",
       "</table>\n",
       "</div>"
      ],
      "text/plain": [
       "   sl_no Invoice StockCode                          Description  Quantity  \\\n",
       "0      0  489434     85048  15CM CHRISTMAS GLASS BALL 20 LIGHTS        12   \n",
       "1      1  489434    79323P                   PINK CHERRY LIGHTS        12   \n",
       "2      2  489434    79323W                  WHITE CHERRY LIGHTS        12   \n",
       "3      3  489434     22041         RECORD FRAME 7\" SINGLE SIZE         48   \n",
       "4      4  489434     21232       STRAWBERRY CERAMIC TRINKET BOX        24   \n",
       "\n",
       "        InvoiceDate        Date      Time  Price  Customer ID         Country  \\\n",
       "0  12-01-2009 07:45  01-12-2009  07:45:00   6.95        13085  United Kingdom   \n",
       "1  12-01-2009 07:45  01-12-2009  07:45:00   6.75        13085  United Kingdom   \n",
       "2  12-01-2009 07:45  01-12-2009  07:45:00   6.75        13085  United Kingdom   \n",
       "3  12-01-2009 07:45  01-12-2009  07:45:00   2.10        13085  United Kingdom   \n",
       "4  12-01-2009 07:45  01-12-2009  07:45:00   1.25        13085  United Kingdom   \n",
       "\n",
       "   Total_price gender  Age  \n",
       "0         83.4   male   22  \n",
       "1         81.0   male   22  \n",
       "2         81.0   male   22  \n",
       "3        100.8   male   22  \n",
       "4         30.0   male   22  "
      ]
     },
     "execution_count": 2,
     "metadata": {},
     "output_type": "execute_result"
    }
   ],
   "source": [
    "Data = pd.read_csv(\"Sales_Data1.csv\")\n",
    "Data.head()"
   ]
  },
  {
   "cell_type": "code",
   "execution_count": 3,
   "id": "db3d6419",
   "metadata": {},
   "outputs": [
    {
     "data": {
      "text/html": [
       "<div>\n",
       "<style scoped>\n",
       "    .dataframe tbody tr th:only-of-type {\n",
       "        vertical-align: middle;\n",
       "    }\n",
       "\n",
       "    .dataframe tbody tr th {\n",
       "        vertical-align: top;\n",
       "    }\n",
       "\n",
       "    .dataframe thead th {\n",
       "        text-align: right;\n",
       "    }\n",
       "</style>\n",
       "<table border=\"1\" class=\"dataframe\">\n",
       "  <thead>\n",
       "    <tr style=\"text-align: right;\">\n",
       "      <th></th>\n",
       "      <th>InvoiceDate</th>\n",
       "      <th>Revenue</th>\n",
       "    </tr>\n",
       "  </thead>\n",
       "  <tbody>\n",
       "    <tr>\n",
       "      <th>0</th>\n",
       "      <td>2009-12-01 07:45:00</td>\n",
       "      <td>505.30</td>\n",
       "    </tr>\n",
       "    <tr>\n",
       "      <th>1</th>\n",
       "      <td>2009-12-01 07:46:00</td>\n",
       "      <td>145.80</td>\n",
       "    </tr>\n",
       "    <tr>\n",
       "      <th>2</th>\n",
       "      <td>2009-12-01 09:06:00</td>\n",
       "      <td>630.33</td>\n",
       "    </tr>\n",
       "    <tr>\n",
       "      <th>3</th>\n",
       "      <td>2009-12-01 09:08:00</td>\n",
       "      <td>310.75</td>\n",
       "    </tr>\n",
       "    <tr>\n",
       "      <th>4</th>\n",
       "      <td>2009-12-01 09:24:00</td>\n",
       "      <td>2286.24</td>\n",
       "    </tr>\n",
       "  </tbody>\n",
       "</table>\n",
       "</div>"
      ],
      "text/plain": [
       "          InvoiceDate  Revenue\n",
       "0 2009-12-01 07:45:00   505.30\n",
       "1 2009-12-01 07:46:00   145.80\n",
       "2 2009-12-01 09:06:00   630.33\n",
       "3 2009-12-01 09:08:00   310.75\n",
       "4 2009-12-01 09:24:00  2286.24"
      ]
     },
     "execution_count": 3,
     "metadata": {},
     "output_type": "execute_result"
    }
   ],
   "source": [
    "# Converting to Monthly Sales Data\n",
    "Data['InvoiceDate'] = pd.to_datetime(Data['InvoiceDate'])\n",
    "\n",
    "Data['Revenue'] = Data['Price'] * Data['Quantity']\n",
    "revenue = Data.groupby(['InvoiceDate'])['Revenue'].sum().reset_index()\n",
    "revenue.head()"
   ]
  },
  {
   "cell_type": "code",
   "execution_count": 4,
   "id": "cf67f409",
   "metadata": {},
   "outputs": [],
   "source": [
    "revenue = revenue.set_index('InvoiceDate')"
   ]
  },
  {
   "cell_type": "code",
   "execution_count": 5,
   "id": "bad5461f",
   "metadata": {},
   "outputs": [
    {
     "data": {
      "text/plain": [
       "InvoiceDate\n",
       "2009-12-01    412.093018\n",
       "2010-01-01    481.956346\n",
       "2010-02-01    415.681133\n",
       "2010-03-01    430.468980\n",
       "2010-04-01    414.906510\n",
       "Freq: MS, Name: Revenue, dtype: float64"
      ]
     },
     "execution_count": 5,
     "metadata": {},
     "output_type": "execute_result"
    }
   ],
   "source": [
    "revenue=revenue['Revenue'].resample('MS').mean()\n",
    "revenue.head()"
   ]
  },
  {
   "cell_type": "code",
   "execution_count": 6,
   "id": "aa652593",
   "metadata": {},
   "outputs": [],
   "source": [
    "# Coverting to Data frame\n",
    "Sales=revenue.to_frame()"
   ]
  },
  {
   "cell_type": "code",
   "execution_count": 7,
   "id": "5a835a27",
   "metadata": {},
   "outputs": [
    {
     "data": {
      "text/html": [
       "<div>\n",
       "<style scoped>\n",
       "    .dataframe tbody tr th:only-of-type {\n",
       "        vertical-align: middle;\n",
       "    }\n",
       "\n",
       "    .dataframe tbody tr th {\n",
       "        vertical-align: top;\n",
       "    }\n",
       "\n",
       "    .dataframe thead th {\n",
       "        text-align: right;\n",
       "    }\n",
       "</style>\n",
       "<table border=\"1\" class=\"dataframe\">\n",
       "  <thead>\n",
       "    <tr style=\"text-align: right;\">\n",
       "      <th></th>\n",
       "      <th>Revenue</th>\n",
       "    </tr>\n",
       "    <tr>\n",
       "      <th>InvoiceDate</th>\n",
       "      <th></th>\n",
       "    </tr>\n",
       "  </thead>\n",
       "  <tbody>\n",
       "    <tr>\n",
       "      <th>2009-12-01</th>\n",
       "      <td>412.093018</td>\n",
       "    </tr>\n",
       "    <tr>\n",
       "      <th>2010-01-01</th>\n",
       "      <td>481.956346</td>\n",
       "    </tr>\n",
       "    <tr>\n",
       "      <th>2010-02-01</th>\n",
       "      <td>415.681133</td>\n",
       "    </tr>\n",
       "    <tr>\n",
       "      <th>2010-03-01</th>\n",
       "      <td>430.468980</td>\n",
       "    </tr>\n",
       "    <tr>\n",
       "      <th>2010-04-01</th>\n",
       "      <td>414.906510</td>\n",
       "    </tr>\n",
       "  </tbody>\n",
       "</table>\n",
       "</div>"
      ],
      "text/plain": [
       "                Revenue\n",
       "InvoiceDate            \n",
       "2009-12-01   412.093018\n",
       "2010-01-01   481.956346\n",
       "2010-02-01   415.681133\n",
       "2010-03-01   430.468980\n",
       "2010-04-01   414.906510"
      ]
     },
     "execution_count": 7,
     "metadata": {},
     "output_type": "execute_result"
    }
   ],
   "source": [
    "Sales=revenue.to_frame()\n",
    "Sales.head()"
   ]
  },
  {
   "cell_type": "markdown",
   "id": "b2adca08",
   "metadata": {},
   "source": [
    "### Visualization Of data"
   ]
  },
  {
   "cell_type": "code",
   "execution_count": 8,
   "id": "4e85d8df",
   "metadata": {},
   "outputs": [
    {
     "data": {
      "text/plain": [
       "<AxesSubplot:xlabel='InvoiceDate'>"
      ]
     },
     "execution_count": 8,
     "metadata": {},
     "output_type": "execute_result"
    },
    {
     "data": {
      "image/png": "[encoded data removed]",
      "text/plain": [
       "<Figure size 2160x720 with 1 Axes>"
      ]
     },
     "metadata": {
      "needs_background": "light"
     },
     "output_type": "display_data"
    }
   ],
   "source": [
    "Sales.plot(figsize=(30,10))"
   ]
  },
  {
   "cell_type": "code",
   "execution_count": 9,
   "id": "02db701d",
   "metadata": {},
   "outputs": [
    {
     "data": {
      "text/html": [
       "<div>\n",
       "<style scoped>\n",
       "    .dataframe tbody tr th:only-of-type {\n",
       "        vertical-align: middle;\n",
       "    }\n",
       "\n",
       "    .dataframe tbody tr th {\n",
       "        vertical-align: top;\n",
       "    }\n",
       "\n",
       "    .dataframe thead th {\n",
       "        text-align: right;\n",
       "    }\n",
       "</style>\n",
       "<table border=\"1\" class=\"dataframe\">\n",
       "  <thead>\n",
       "    <tr style=\"text-align: right;\">\n",
       "      <th></th>\n",
       "      <th>Revenue</th>\n",
       "    </tr>\n",
       "  </thead>\n",
       "  <tbody>\n",
       "    <tr>\n",
       "      <th>count</th>\n",
       "      <td>25.000000</td>\n",
       "    </tr>\n",
       "    <tr>\n",
       "      <th>mean</th>\n",
       "      <td>462.164193</td>\n",
       "    </tr>\n",
       "    <tr>\n",
       "      <th>std</th>\n",
       "      <td>96.050293</td>\n",
       "    </tr>\n",
       "    <tr>\n",
       "      <th>min</th>\n",
       "      <td>380.667227</td>\n",
       "    </tr>\n",
       "    <tr>\n",
       "      <th>25%</th>\n",
       "      <td>414.906510</td>\n",
       "    </tr>\n",
       "    <tr>\n",
       "      <th>50%</th>\n",
       "      <td>430.468980</td>\n",
       "    </tr>\n",
       "    <tr>\n",
       "      <th>75%</th>\n",
       "      <td>469.648398</td>\n",
       "    </tr>\n",
       "    <tr>\n",
       "      <th>max</th>\n",
       "      <td>842.108252</td>\n",
       "    </tr>\n",
       "  </tbody>\n",
       "</table>\n",
       "</div>"
      ],
      "text/plain": [
       "          Revenue\n",
       "count   25.000000\n",
       "mean   462.164193\n",
       "std     96.050293\n",
       "min    380.667227\n",
       "25%    414.906510\n",
       "50%    430.468980\n",
       "75%    469.648398\n",
       "max    842.108252"
      ]
     },
     "execution_count": 9,
     "metadata": {},
     "output_type": "execute_result"
    }
   ],
   "source": [
    "Sales.describe()"
   ]
  },
  {
   "cell_type": "code",
   "execution_count": 10,
   "id": "f6eb74e7",
   "metadata": {},
   "outputs": [],
   "source": [
    "### Testing For Stationarity"
   ]
  },
  {
   "cell_type": "code",
   "execution_count": 11,
   "id": "864edc6a",
   "metadata": {},
   "outputs": [],
   "source": [
    "from statsmodels.tsa.stattools import adfuller"
   ]
  },
  {
   "cell_type": "code",
   "execution_count": 12,
   "id": "b7c58c54",
   "metadata": {},
   "outputs": [],
   "source": [
    "#ADF Test\n",
    "test_result=adfuller(Sales['Revenue'])"
   ]
  },
  {
   "cell_type": "code",
   "execution_count": 13,
   "id": "6a6a5685",
   "metadata": {},
   "outputs": [],
   "source": [
    "#Ho: It is non stationary\n",
    "#H1: It is stationary\n",
    "\n",
    "def adfuller_test(Revenue):\n",
    "    result=adfuller(Revenue)\n",
    "    labels = ['ADF Test Statistic','p-value','#Lags Used','Number of Observations Used']\n",
    "    for value,label in zip(result,labels):\n",
    "        print(label+' : '+str(value) )\n",
    "    if result[1] <= 0.05:\n",
    "        print(\"strong evidence against the null hypothesis(Ho), reject the null hypothesis. Data has no unit root and is stationary\")\n",
    "    else:\n",
    "        print(\"weak evidence against null hypothesis, time series has a unit root, indicating it is non-stationary \")"
   ]
  },
  {
   "cell_type": "code",
   "execution_count": 14,
   "id": "4ada4fc6",
   "metadata": {},
   "outputs": [
    {
     "name": "stdout",
     "output_type": "stream",
     "text": [
      "ADF Test Statistic : -1.8982981746381213\n",
      "p-value : 0.3328621261515562\n",
      "#Lags Used : 0\n",
      "Number of Observations Used : 24\n",
      "weak evidence against null hypothesis, time series has a unit root, indicating it is non-stationary \n"
     ]
    }
   ],
   "source": [
    "adfuller_test(Sales['Revenue'])"
   ]
  },
  {
   "cell_type": "markdown",
   "id": "9a947c55",
   "metadata": {},
   "source": [
    "### Differencing"
   ]
  },
  {
   "cell_type": "code",
   "execution_count": 15,
   "id": "032251d6",
   "metadata": {},
   "outputs": [],
   "source": [
    "Sales['Sales First Difference'] = Sales['Revenue'] - Sales['Revenue'].shift(1)"
   ]
  },
  {
   "cell_type": "code",
   "execution_count": 16,
   "id": "eb3b970e",
   "metadata": {},
   "outputs": [
    {
     "data": {
      "text/plain": [
       "InvoiceDate\n",
       "2009-12-01           NaN\n",
       "2010-01-01    412.093018\n",
       "2010-02-01    481.956346\n",
       "2010-03-01    415.681133\n",
       "2010-04-01    430.468980\n",
       "2010-05-01    414.906510\n",
       "2010-06-01    387.907291\n",
       "2010-07-01    417.408890\n",
       "2010-08-01    380.667227\n",
       "2010-09-01    423.180409\n",
       "2010-10-01    465.293619\n",
       "2010-11-01    469.648398\n",
       "2010-12-01    431.606422\n",
       "2011-01-01    586.690142\n",
       "2011-02-01    569.798884\n",
       "2011-03-01    398.371236\n",
       "2011-04-01    400.155147\n",
       "2011-05-01    397.480893\n",
       "2011-06-01    416.532338\n",
       "2011-07-01    444.011324\n",
       "2011-08-01    421.794839\n",
       "2011-09-01    463.131731\n",
       "2011-10-01    514.924097\n",
       "2011-11-01    534.641157\n",
       "2011-12-01    433.646531\n",
       "Freq: MS, Name: Revenue, dtype: float64"
      ]
     },
     "execution_count": 16,
     "metadata": {},
     "output_type": "execute_result"
    }
   ],
   "source": [
    "Sales['Revenue'].shift(1)"
   ]
  },
  {
   "cell_type": "code",
   "execution_count": 17,
   "id": "ac628d53",
   "metadata": {},
   "outputs": [
    {
     "data": {
      "text/plain": [
       "<AxesSubplot:xlabel='InvoiceDate'>"
      ]
     },
     "execution_count": 17,
     "metadata": {},
     "output_type": "execute_result"
    },
    {
     "data": {
      "image/png": "[encoded data removed]",
      "text/plain": [
       "<Figure size 432x288 with 1 Axes>"
      ]
     },
     "metadata": {
      "needs_background": "light"
     },
     "output_type": "display_data"
    }
   ],
   "source": [
    "Sales['Revenue'].shift(1).plot()"
   ]
  },
  {
   "cell_type": "code",
   "execution_count": 18,
   "id": "8ae77c4f",
   "metadata": {},
   "outputs": [
    {
     "name": "stdout",
     "output_type": "stream",
     "text": [
      "ADF Test Statistic : -4.7949211603744715\n",
      "p-value : 5.561575727142922e-05\n",
      "#Lags Used : 0\n",
      "Number of Observations Used : 23\n",
      "strong evidence against the null hypothesis(Ho), reject the null hypothesis. Data has no unit root and is stationary\n"
     ]
    }
   ],
   "source": [
    "## Again test dickey fuller test\n",
    "adfuller_test(Sales['Sales First Difference'].dropna())"
   ]
  },
  {
   "cell_type": "code",
   "execution_count": 19,
   "id": "fc4c07b6",
   "metadata": {},
   "outputs": [
    {
     "data": {
      "text/html": [
       "<div>\n",
       "<style scoped>\n",
       "    .dataframe tbody tr th:only-of-type {\n",
       "        vertical-align: middle;\n",
       "    }\n",
       "\n",
       "    .dataframe tbody tr th {\n",
       "        vertical-align: top;\n",
       "    }\n",
       "\n",
       "    .dataframe thead th {\n",
       "        text-align: right;\n",
       "    }\n",
       "</style>\n",
       "<table border=\"1\" class=\"dataframe\">\n",
       "  <thead>\n",
       "    <tr style=\"text-align: right;\">\n",
       "      <th></th>\n",
       "      <th>Revenue</th>\n",
       "      <th>Sales First Difference</th>\n",
       "      <th>Seasonal First Difference</th>\n",
       "    </tr>\n",
       "    <tr>\n",
       "      <th>InvoiceDate</th>\n",
       "      <th></th>\n",
       "      <th></th>\n",
       "      <th></th>\n",
       "    </tr>\n",
       "  </thead>\n",
       "  <tbody>\n",
       "    <tr>\n",
       "      <th>2009-12-01</th>\n",
       "      <td>412.093018</td>\n",
       "      <td>NaN</td>\n",
       "      <td>NaN</td>\n",
       "    </tr>\n",
       "    <tr>\n",
       "      <th>2010-01-01</th>\n",
       "      <td>481.956346</td>\n",
       "      <td>69.863328</td>\n",
       "      <td>NaN</td>\n",
       "    </tr>\n",
       "    <tr>\n",
       "      <th>2010-02-01</th>\n",
       "      <td>415.681133</td>\n",
       "      <td>-66.275213</td>\n",
       "      <td>NaN</td>\n",
       "    </tr>\n",
       "    <tr>\n",
       "      <th>2010-03-01</th>\n",
       "      <td>430.468980</td>\n",
       "      <td>14.787847</td>\n",
       "      <td>NaN</td>\n",
       "    </tr>\n",
       "    <tr>\n",
       "      <th>2010-04-01</th>\n",
       "      <td>414.906510</td>\n",
       "      <td>-15.562470</td>\n",
       "      <td>NaN</td>\n",
       "    </tr>\n",
       "    <tr>\n",
       "      <th>2010-05-01</th>\n",
       "      <td>387.907291</td>\n",
       "      <td>-26.999219</td>\n",
       "      <td>NaN</td>\n",
       "    </tr>\n",
       "    <tr>\n",
       "      <th>2010-06-01</th>\n",
       "      <td>417.408890</td>\n",
       "      <td>29.501599</td>\n",
       "      <td>NaN</td>\n",
       "    </tr>\n",
       "    <tr>\n",
       "      <th>2010-07-01</th>\n",
       "      <td>380.667227</td>\n",
       "      <td>-36.741663</td>\n",
       "      <td>NaN</td>\n",
       "    </tr>\n",
       "    <tr>\n",
       "      <th>2010-08-01</th>\n",
       "      <td>423.180409</td>\n",
       "      <td>42.513182</td>\n",
       "      <td>NaN</td>\n",
       "    </tr>\n",
       "    <tr>\n",
       "      <th>2010-09-01</th>\n",
       "      <td>465.293619</td>\n",
       "      <td>42.113210</td>\n",
       "      <td>NaN</td>\n",
       "    </tr>\n",
       "    <tr>\n",
       "      <th>2010-10-01</th>\n",
       "      <td>469.648398</td>\n",
       "      <td>4.354780</td>\n",
       "      <td>NaN</td>\n",
       "    </tr>\n",
       "    <tr>\n",
       "      <th>2010-11-01</th>\n",
       "      <td>431.606422</td>\n",
       "      <td>-38.041976</td>\n",
       "      <td>NaN</td>\n",
       "    </tr>\n",
       "    <tr>\n",
       "      <th>2010-12-01</th>\n",
       "      <td>586.690142</td>\n",
       "      <td>155.083719</td>\n",
       "      <td>174.597124</td>\n",
       "    </tr>\n",
       "    <tr>\n",
       "      <th>2011-01-01</th>\n",
       "      <td>569.798884</td>\n",
       "      <td>-16.891258</td>\n",
       "      <td>87.842538</td>\n",
       "    </tr>\n",
       "    <tr>\n",
       "      <th>2011-02-01</th>\n",
       "      <td>398.371236</td>\n",
       "      <td>-171.427648</td>\n",
       "      <td>-17.309897</td>\n",
       "    </tr>\n",
       "    <tr>\n",
       "      <th>2011-03-01</th>\n",
       "      <td>400.155147</td>\n",
       "      <td>1.783911</td>\n",
       "      <td>-30.313832</td>\n",
       "    </tr>\n",
       "    <tr>\n",
       "      <th>2011-04-01</th>\n",
       "      <td>397.480893</td>\n",
       "      <td>-2.674254</td>\n",
       "      <td>-17.425617</td>\n",
       "    </tr>\n",
       "    <tr>\n",
       "      <th>2011-05-01</th>\n",
       "      <td>416.532338</td>\n",
       "      <td>19.051445</td>\n",
       "      <td>28.625048</td>\n",
       "    </tr>\n",
       "    <tr>\n",
       "      <th>2011-06-01</th>\n",
       "      <td>444.011324</td>\n",
       "      <td>27.478985</td>\n",
       "      <td>26.602434</td>\n",
       "    </tr>\n",
       "    <tr>\n",
       "      <th>2011-07-01</th>\n",
       "      <td>421.794839</td>\n",
       "      <td>-22.216485</td>\n",
       "      <td>41.127612</td>\n",
       "    </tr>\n",
       "    <tr>\n",
       "      <th>2011-08-01</th>\n",
       "      <td>463.131731</td>\n",
       "      <td>41.336892</td>\n",
       "      <td>39.951322</td>\n",
       "    </tr>\n",
       "    <tr>\n",
       "      <th>2011-09-01</th>\n",
       "      <td>514.924097</td>\n",
       "      <td>51.792366</td>\n",
       "      <td>49.630479</td>\n",
       "    </tr>\n",
       "    <tr>\n",
       "      <th>2011-10-01</th>\n",
       "      <td>534.641157</td>\n",
       "      <td>19.717060</td>\n",
       "      <td>64.992759</td>\n",
       "    </tr>\n",
       "    <tr>\n",
       "      <th>2011-11-01</th>\n",
       "      <td>433.646531</td>\n",
       "      <td>-100.994627</td>\n",
       "      <td>2.040108</td>\n",
       "    </tr>\n",
       "  </tbody>\n",
       "</table>\n",
       "</div>"
      ],
      "text/plain": [
       "                Revenue  Sales First Difference  Seasonal First Difference\n",
       "InvoiceDate                                                               \n",
       "2009-12-01   412.093018                     NaN                        NaN\n",
       "2010-01-01   481.956346               69.863328                        NaN\n",
       "2010-02-01   415.681133              -66.275213                        NaN\n",
       "2010-03-01   430.468980               14.787847                        NaN\n",
       "2010-04-01   414.906510              -15.562470                        NaN\n",
       "2010-05-01   387.907291              -26.999219                        NaN\n",
       "2010-06-01   417.408890               29.501599                        NaN\n",
       "2010-07-01   380.667227              -36.741663                        NaN\n",
       "2010-08-01   423.180409               42.513182                        NaN\n",
       "2010-09-01   465.293619               42.113210                        NaN\n",
       "2010-10-01   469.648398                4.354780                        NaN\n",
       "2010-11-01   431.606422              -38.041976                        NaN\n",
       "2010-12-01   586.690142              155.083719                 174.597124\n",
       "2011-01-01   569.798884              -16.891258                  87.842538\n",
       "2011-02-01   398.371236             -171.427648                 -17.309897\n",
       "2011-03-01   400.155147                1.783911                 -30.313832\n",
       "2011-04-01   397.480893               -2.674254                 -17.425617\n",
       "2011-05-01   416.532338               19.051445                  28.625048\n",
       "2011-06-01   444.011324               27.478985                  26.602434\n",
       "2011-07-01   421.794839              -22.216485                  41.127612\n",
       "2011-08-01   463.131731               41.336892                  39.951322\n",
       "2011-09-01   514.924097               51.792366                  49.630479\n",
       "2011-10-01   534.641157               19.717060                  64.992759\n",
       "2011-11-01   433.646531             -100.994627                   2.040108"
      ]
     },
     "execution_count": 19,
     "metadata": {},
     "output_type": "execute_result"
    }
   ],
   "source": [
    "Sales['Seasonal First Difference']=Sales['Revenue']-Sales['Revenue'].shift(12)\n",
    "Sales.head(24)"
   ]
  },
  {
   "cell_type": "code",
   "execution_count": 20,
   "id": "10b64bba",
   "metadata": {},
   "outputs": [],
   "source": [
    "#Ho: It is non stationary\n",
    "#H1: It is stationary\n",
    "\n",
    "def adfuller_test(Revenue):\n",
    "    result=adfuller(revenue)\n",
    "    labels = ['ADF Test Statistic','p-value','#Lags Used','Number of Observations Used']\n",
    "    for value,label in zip(result,labels):\n",
    "        print(label+' : '+str(value) )\n",
    "    if result[1] <= 0.05:\n",
    "        print(\"weak evidence against the null hypothesis(Ho), reject the null hypothesis. Data has no unit root and is non-stationary\")\n",
    "    else:\n",
    "        print(\"strong evidence against null hypothesis, time series has a unit root, stationary \")"
   ]
  },
  {
   "cell_type": "code",
   "execution_count": 21,
   "id": "8405a922",
   "metadata": {},
   "outputs": [
    {
     "name": "stdout",
     "output_type": "stream",
     "text": [
      "ADF Test Statistic : -1.8982981746381213\n",
      "p-value : 0.3328621261515562\n",
      "#Lags Used : 0\n",
      "Number of Observations Used : 24\n",
      "strong evidence against null hypothesis, time series has a unit root, stationary \n"
     ]
    }
   ],
   "source": [
    "## Again test dickey fuller test\n",
    "adfuller_test(Sales['Seasonal First Difference'].dropna())"
   ]
  },
  {
   "cell_type": "markdown",
   "id": "e4951e77",
   "metadata": {},
   "source": [
    "### Auto Regression Model"
   ]
  },
  {
   "cell_type": "code",
   "execution_count": 22,
   "id": "ba288551",
   "metadata": {},
   "outputs": [
    {
     "data": {
      "image/png": "[encoded data removed]",
      "text/plain": [
       "<Figure size 432x288 with 1 Axes>"
      ]
     },
     "metadata": {
      "needs_background": "light"
     },
     "output_type": "display_data"
    }
   ],
   "source": [
    "from pandas.plotting import autocorrelation_plot\n",
    "autocorrelation_plot(Sales['Revenue'])\n",
    "plt.show()"
   ]
  },
  {
   "cell_type": "markdown",
   "id": "5d8bef62",
   "metadata": {},
   "source": [
    "### ARIMA"
   ]
  },
  {
   "cell_type": "code",
   "execution_count": 23,
   "id": "cb6b11be",
   "metadata": {},
   "outputs": [],
   "source": [
    "from statsmodels.graphics.tsaplots import plot_acf,plot_pacf\n",
    "import statsmodels.api as sm"
   ]
  },
  {
   "cell_type": "code",
   "execution_count": 24,
   "id": "aaf06f52",
   "metadata": {},
   "outputs": [
    {
     "data": {
      "image/png": "[encoded data removed]",
      "text/plain": [
       "<Figure size 1080x1080 with 2 Axes>"
      ]
     },
     "metadata": {
      "needs_background": "light"
     },
     "output_type": "display_data"
    }
   ],
   "source": [
    "fig = plt.figure(figsize=(15,15))\n",
    "ax1 = fig.add_subplot(211)\n",
    "fig = sm.graphics.tsa.plot_acf(Sales['Revenue'],lags=20,ax=ax1)\n",
    "ax2 = fig.add_subplot(212)\n",
    "fig = sm.graphics.tsa.plot_pacf(Sales['Revenue'],lags=10,ax=ax2)"
   ]
  },
  {
   "cell_type": "code",
   "execution_count": 25,
   "id": "d9c58fe4",
   "metadata": {},
   "outputs": [],
   "source": [
    "# For non-seasonal data\n",
    "#p=0, d=1, q=0 or 1  d=1\n",
    "from statsmodels.tsa.arima_model import ARIMA"
   ]
  },
  {
   "cell_type": "code",
   "execution_count": 26,
   "id": "d1b6a5e8",
   "metadata": {},
   "outputs": [
    {
     "name": "stderr",
     "output_type": "stream",
     "text": [
      "C:\\Users\\santh\\anaconda3\\lib\\site-packages\\statsmodels\\tsa\\arima_model.py:472: FutureWarning: \n",
      "statsmodels.tsa.arima_model.ARMA and statsmodels.tsa.arima_model.ARIMA have\n",
      "been deprecated in favor of statsmodels.tsa.arima.model.ARIMA (note the .\n",
      "between arima and model) and\n",
      "statsmodels.tsa.SARIMAX. These will be removed after the 0.12 release.\n",
      "\n",
      "statsmodels.tsa.arima.model.ARIMA makes use of the statespace framework and\n",
      "is both well tested and maintained.\n",
      "\n",
      "To silence this warning and continue using ARMA and ARIMA until they are\n",
      "removed, use:\n",
      "\n",
      "import warnings\n",
      "warnings.filterwarnings('ignore', 'statsmodels.tsa.arima_model.ARMA',\n",
      "                        FutureWarning)\n",
      "warnings.filterwarnings('ignore', 'statsmodels.tsa.arima_model.ARIMA',\n",
      "                        FutureWarning)\n",
      "\n",
      "  warnings.warn(ARIMA_DEPRECATION_WARN, FutureWarning)\n"
     ]
    }
   ],
   "source": [
    "model=ARIMA(Sales['Revenue'],order=(0,1,0))\n",
    "model_fit=model.fit()"
   ]
  },
  {
   "cell_type": "code",
   "execution_count": 27,
   "id": "75619457",
   "metadata": {},
   "outputs": [
    {
     "name": "stdout",
     "output_type": "stream",
     "text": [
      "                             ARIMA Model Results                              \n",
      "==============================================================================\n",
      "Dep. Variable:              D.Revenue   No. Observations:                   24\n",
      "Model:                 ARIMA(0, 1, 0)   Log Likelihood                -144.933\n",
      "Method:                           css   S.D. of innovations            101.487\n",
      "Date:                Thu, 09 Jun 2022   AIC                            293.866\n",
      "Time:                        14:32:08   BIC                            296.222\n",
      "Sample:                    01-01-2010   HQIC                           294.491\n",
      "                         - 12-01-2011                                         \n",
      "==============================================================================\n",
      "                 coef    std err          z      P>|z|      [0.025      0.975]\n",
      "------------------------------------------------------------------------------\n",
      "const         17.9173     20.716      0.865      0.387     -22.685      58.520\n",
      "==============================================================================\n"
     ]
    }
   ],
   "source": [
    "print(model_fit.summary())"
   ]
  },
  {
   "cell_type": "code",
   "execution_count": 28,
   "id": "4a312359",
   "metadata": {},
   "outputs": [
    {
     "data": {
      "image/png": "[encoded data removed]",
      "text/plain": [
       "<Figure size 432x288 with 2 Axes>"
      ]
     },
     "metadata": {
      "needs_background": "light"
     },
     "output_type": "display_data"
    }
   ],
   "source": [
    "# Plot residual errors\n",
    "residuals = pd.DataFrame(model_fit.resid)\n",
    "fig, ax = plt.subplots(1,2)\n",
    "residuals.plot(title=\"Residuals\", ax=ax[0])\n",
    "residuals.plot(kind='kde', title='Density', ax=ax[1])\n",
    "plt.show()"
   ]
  },
  {
   "cell_type": "code",
   "execution_count": 29,
   "id": "ea1c495e",
   "metadata": {},
   "outputs": [
    {
     "data": {
      "image/png": "[encoded data removed]",
      "text/plain": [
       "<Figure size 432x288 with 1 Axes>"
      ]
     },
     "metadata": {
      "needs_background": "light"
     },
     "output_type": "display_data"
    }
   ],
   "source": [
    "#Actual vs Fitted\n",
    "model_fit.plot_predict(dynamic=False)\n",
    "plt.show()"
   ]
  },
  {
   "cell_type": "markdown",
   "id": "ee410a76",
   "metadata": {},
   "source": [
    "### Cross Validation"
   ]
  },
  {
   "cell_type": "code",
   "execution_count": 30,
   "id": "858308f7",
   "metadata": {},
   "outputs": [],
   "source": [
    "# Create Training and Test\n",
    "train = Sales.Revenue[1:16]\n",
    "test = Sales.Revenue[15:25]"
   ]
  },
  {
   "cell_type": "code",
   "execution_count": 31,
   "id": "c25ee5c4",
   "metadata": {},
   "outputs": [
    {
     "name": "stderr",
     "output_type": "stream",
     "text": [
      "C:\\Users\\santh\\anaconda3\\lib\\site-packages\\statsmodels\\tsa\\arima_model.py:472: FutureWarning: \n",
      "statsmodels.tsa.arima_model.ARMA and statsmodels.tsa.arima_model.ARIMA have\n",
      "been deprecated in favor of statsmodels.tsa.arima.model.ARIMA (note the .\n",
      "between arima and model) and\n",
      "statsmodels.tsa.SARIMAX. These will be removed after the 0.12 release.\n",
      "\n",
      "statsmodels.tsa.arima.model.ARIMA makes use of the statespace framework and\n",
      "is both well tested and maintained.\n",
      "\n",
      "To silence this warning and continue using ARMA and ARIMA until they are\n",
      "removed, use:\n",
      "\n",
      "import warnings\n",
      "warnings.filterwarnings('ignore', 'statsmodels.tsa.arima_model.ARMA',\n",
      "                        FutureWarning)\n",
      "warnings.filterwarnings('ignore', 'statsmodels.tsa.arima_model.ARIMA',\n",
      "                        FutureWarning)\n",
      "\n",
      "  warnings.warn(ARIMA_DEPRECATION_WARN, FutureWarning)\n"
     ]
    }
   ],
   "source": [
    "# Build Model\n",
    "# model = ARIMA(train, order=(0,1,0))  \n",
    "model = ARIMA(train, order=(0, 1, 1))  \n",
    "fitted = model.fit() "
   ]
  },
  {
   "cell_type": "code",
   "execution_count": 32,
   "id": "5fcbf06f",
   "metadata": {},
   "outputs": [
    {
     "data": {
      "text/plain": [
       "array([425.36125173, 423.37693154, 421.39261135, 419.40829116,\n",
       "       417.42397096, 415.43965077, 413.45533058, 411.47101039,\n",
       "       409.4866902 , 407.50237001])"
      ]
     },
     "execution_count": 32,
     "metadata": {},
     "output_type": "execute_result"
    }
   ],
   "source": [
    "forecast=fitted.forecast(steps=10)[0]\n",
    "forecast"
   ]
  },
  {
   "cell_type": "code",
   "execution_count": 33,
   "id": "610219f6",
   "metadata": {},
   "outputs": [],
   "source": [
    "#Forecast\n",
    "forecast, se, conf = fitted.forecast(10, alpha=0.05)  # 95% conf"
   ]
  },
  {
   "cell_type": "code",
   "execution_count": 34,
   "id": "128c9e30",
   "metadata": {},
   "outputs": [],
   "source": [
    "# Make as pandas series\n",
    "fc_series = pd.Series(forecast, test.index)\n",
    "lower_series = pd.Series(conf[:, 0], index=test.index)\n",
    "upper_series = pd.Series(conf[:, 1], index=test.index)\n"
   ]
  },
  {
   "cell_type": "code",
   "execution_count": 35,
   "id": "37a75702",
   "metadata": {},
   "outputs": [
    {
     "data": {
      "image/png": "[encoded data removed]",
      "text/plain": [
       "<Figure size 1200x500 with 1 Axes>"
      ]
     },
     "metadata": {
      "needs_background": "light"
     },
     "output_type": "display_data"
    }
   ],
   "source": [
    "# Plot\n",
    "plt.figure(figsize=(12,5), dpi=100)\n",
    "\n",
    "plt.plot(train, label='training')\n",
    "plt.plot(test, label='actual')\n",
    "plt.plot(fc_series, label='forecast')\n",
    "\n",
    "plt.title('Forecast vs Actuals')\n",
    "plt.legend(loc='upper left', fontsize=8)\n",
    "plt.show()"
   ]
  },
  {
   "cell_type": "markdown",
   "id": "59d35bb5",
   "metadata": {},
   "source": [
    "### SARIMA"
   ]
  },
  {
   "cell_type": "code",
   "execution_count": 36,
   "id": "b923b02b",
   "metadata": {},
   "outputs": [],
   "source": [
    "model=sm.tsa.statespace.SARIMAX(Sales['Revenue'],order=(0, 1, 0),seasonal_order=(0,1,0,12))\n",
    "results=model.fit()"
   ]
  },
  {
   "cell_type": "code",
   "execution_count": 37,
   "id": "fab266aa",
   "metadata": {},
   "outputs": [
    {
     "data": {
      "text/plain": [
       "<AxesSubplot:xlabel='InvoiceDate'>"
      ]
     },
     "execution_count": 37,
     "metadata": {},
     "output_type": "execute_result"
    },
    {
     "data": {
      "image/png": "[encoded data removed]",
      "text/plain": [
       "<Figure size 1080x576 with 1 Axes>"
      ]
     },
     "metadata": {
      "needs_background": "light"
     },
     "output_type": "display_data"
    }
   ],
   "source": [
    "Sales['forecast']=results.predict(start=20,end=28,dynamic=True)\n",
    "Sales[['Revenue','forecast']].plot(figsize=(15,8))"
   ]
  },
  {
   "cell_type": "code",
   "execution_count": 38,
   "id": "c7aef311",
   "metadata": {},
   "outputs": [
    {
     "name": "stdout",
     "output_type": "stream",
     "text": [
      "                                     SARIMAX Results                                      \n",
      "==========================================================================================\n",
      "Dep. Variable:                            Revenue   No. Observations:                   25\n",
      "Model:             SARIMAX(0, 1, 0)x(0, 1, 0, 12)   Log Likelihood                 -70.546\n",
      "Date:                            Thu, 09 Jun 2022   AIC                            143.093\n",
      "Time:                                    14:32:13   BIC                            143.578\n",
      "Sample:                                12-01-2009   HQIC                           142.913\n",
      "                                     - 12-01-2011                                         \n",
      "Covariance Type:                              opg                                         \n",
      "==============================================================================\n",
      "                 coef    std err          z      P>|z|      [0.025      0.975]\n",
      "------------------------------------------------------------------------------\n",
      "sigma2      7476.7618   1850.661      4.040      0.000    3849.533    1.11e+04\n",
      "===================================================================================\n",
      "Ljung-Box (L1) (Q):                   0.06   Jarque-Bera (JB):                 9.70\n",
      "Prob(Q):                              0.81   Prob(JB):                         0.01\n",
      "Heteroskedasticity (H):               3.62   Skew:                             1.63\n",
      "Prob(H) (two-sided):                  0.24   Kurtosis:                         5.97\n",
      "===================================================================================\n",
      "\n",
      "Warnings:\n",
      "[1] Covariance matrix calculated using the outer product of gradients (complex-step).\n"
     ]
    }
   ],
   "source": [
    "print(results.summary())"
   ]
  },
  {
   "cell_type": "code",
   "execution_count": 39,
   "id": "b0f26775",
   "metadata": {},
   "outputs": [],
   "source": [
    "from pandas.tseries.offsets import DateOffset\n",
    "future_dates=[Sales.index[-1]+ DateOffset(months=x)for x in range(0,24)]"
   ]
  },
  {
   "cell_type": "code",
   "execution_count": 40,
   "id": "1a07b0a5",
   "metadata": {},
   "outputs": [],
   "source": [
    "future_dateset_df=pd.DataFrame(index=future_dates[1:],columns=Sales.columns)"
   ]
  },
  {
   "cell_type": "code",
   "execution_count": 41,
   "id": "47258755",
   "metadata": {},
   "outputs": [
    {
     "data": {
      "text/html": [
       "<div>\n",
       "<style scoped>\n",
       "    .dataframe tbody tr th:only-of-type {\n",
       "        vertical-align: middle;\n",
       "    }\n",
       "\n",
       "    .dataframe tbody tr th {\n",
       "        vertical-align: top;\n",
       "    }\n",
       "\n",
       "    .dataframe thead th {\n",
       "        text-align: right;\n",
       "    }\n",
       "</style>\n",
       "<table border=\"1\" class=\"dataframe\">\n",
       "  <thead>\n",
       "    <tr style=\"text-align: right;\">\n",
       "      <th></th>\n",
       "      <th>Revenue</th>\n",
       "      <th>Sales First Difference</th>\n",
       "      <th>Seasonal First Difference</th>\n",
       "      <th>forecast</th>\n",
       "    </tr>\n",
       "  </thead>\n",
       "  <tbody>\n",
       "    <tr>\n",
       "      <th>2013-07-01</th>\n",
       "      <td>NaN</td>\n",
       "      <td>NaN</td>\n",
       "      <td>NaN</td>\n",
       "      <td>NaN</td>\n",
       "    </tr>\n",
       "    <tr>\n",
       "      <th>2013-08-01</th>\n",
       "      <td>NaN</td>\n",
       "      <td>NaN</td>\n",
       "      <td>NaN</td>\n",
       "      <td>NaN</td>\n",
       "    </tr>\n",
       "    <tr>\n",
       "      <th>2013-09-01</th>\n",
       "      <td>NaN</td>\n",
       "      <td>NaN</td>\n",
       "      <td>NaN</td>\n",
       "      <td>NaN</td>\n",
       "    </tr>\n",
       "    <tr>\n",
       "      <th>2013-10-01</th>\n",
       "      <td>NaN</td>\n",
       "      <td>NaN</td>\n",
       "      <td>NaN</td>\n",
       "      <td>NaN</td>\n",
       "    </tr>\n",
       "    <tr>\n",
       "      <th>2013-11-01</th>\n",
       "      <td>NaN</td>\n",
       "      <td>NaN</td>\n",
       "      <td>NaN</td>\n",
       "      <td>NaN</td>\n",
       "    </tr>\n",
       "  </tbody>\n",
       "</table>\n",
       "</div>"
      ],
      "text/plain": [
       "           Revenue Sales First Difference Seasonal First Difference forecast\n",
       "2013-07-01     NaN                    NaN                       NaN      NaN\n",
       "2013-08-01     NaN                    NaN                       NaN      NaN\n",
       "2013-09-01     NaN                    NaN                       NaN      NaN\n",
       "2013-10-01     NaN                    NaN                       NaN      NaN\n",
       "2013-11-01     NaN                    NaN                       NaN      NaN"
      ]
     },
     "execution_count": 41,
     "metadata": {},
     "output_type": "execute_result"
    }
   ],
   "source": [
    "future_dateset_df.tail()"
   ]
  },
  {
   "cell_type": "code",
   "execution_count": 42,
   "id": "2b236c0e",
   "metadata": {},
   "outputs": [],
   "source": [
    "future_df=pd.concat([Sales,future_dateset_df])"
   ]
  },
  {
   "cell_type": "code",
   "execution_count": 43,
   "id": "d921a68b",
   "metadata": {},
   "outputs": [
    {
     "data": {
      "text/plain": [
       "<AxesSubplot:>"
      ]
     },
     "execution_count": 43,
     "metadata": {},
     "output_type": "execute_result"
    },
    {
     "data": {
      "image/png": "[encoded data removed]",
      "text/plain": [
       "<Figure size 864x576 with 1 Axes>"
      ]
     },
     "metadata": {
      "needs_background": "light"
     },
     "output_type": "display_data"
    }
   ],
   "source": [
    "future_df['forecast'] = results.predict(start = 22, end = 36, dynamic= True) \n",
    "future_df[['Revenue', 'forecast']].plot(figsize=(12, 8))"
   ]
  },
  {
   "cell_type": "code",
   "execution_count": 44,
   "id": "67ccd140",
   "metadata": {},
   "outputs": [
    {
     "data": {
      "text/html": [
       "<div>\n",
       "<style scoped>\n",
       "    .dataframe tbody tr th:only-of-type {\n",
       "        vertical-align: middle;\n",
       "    }\n",
       "\n",
       "    .dataframe tbody tr th {\n",
       "        vertical-align: top;\n",
       "    }\n",
       "\n",
       "    .dataframe thead th {\n",
       "        text-align: right;\n",
       "    }\n",
       "</style>\n",
       "<table border=\"1\" class=\"dataframe\">\n",
       "  <thead>\n",
       "    <tr style=\"text-align: right;\">\n",
       "      <th></th>\n",
       "      <th>Revenue</th>\n",
       "      <th>Sales First Difference</th>\n",
       "      <th>Seasonal First Difference</th>\n",
       "      <th>forecast</th>\n",
       "    </tr>\n",
       "  </thead>\n",
       "  <tbody>\n",
       "    <tr>\n",
       "      <th>2009-12-01</th>\n",
       "      <td>412.093018</td>\n",
       "      <td>NaN</td>\n",
       "      <td>NaN</td>\n",
       "      <td>NaN</td>\n",
       "    </tr>\n",
       "    <tr>\n",
       "      <th>2010-01-01</th>\n",
       "      <td>481.956346</td>\n",
       "      <td>69.863328</td>\n",
       "      <td>NaN</td>\n",
       "      <td>NaN</td>\n",
       "    </tr>\n",
       "    <tr>\n",
       "      <th>2010-02-01</th>\n",
       "      <td>415.681133</td>\n",
       "      <td>-66.275213</td>\n",
       "      <td>NaN</td>\n",
       "      <td>NaN</td>\n",
       "    </tr>\n",
       "    <tr>\n",
       "      <th>2010-03-01</th>\n",
       "      <td>430.468980</td>\n",
       "      <td>14.787847</td>\n",
       "      <td>NaN</td>\n",
       "      <td>NaN</td>\n",
       "    </tr>\n",
       "    <tr>\n",
       "      <th>2010-04-01</th>\n",
       "      <td>414.906510</td>\n",
       "      <td>-15.562470</td>\n",
       "      <td>NaN</td>\n",
       "      <td>NaN</td>\n",
       "    </tr>\n",
       "    <tr>\n",
       "      <th>2010-05-01</th>\n",
       "      <td>387.907291</td>\n",
       "      <td>-26.999219</td>\n",
       "      <td>NaN</td>\n",
       "      <td>NaN</td>\n",
       "    </tr>\n",
       "    <tr>\n",
       "      <th>2010-06-01</th>\n",
       "      <td>417.408890</td>\n",
       "      <td>29.501599</td>\n",
       "      <td>NaN</td>\n",
       "      <td>NaN</td>\n",
       "    </tr>\n",
       "    <tr>\n",
       "      <th>2010-07-01</th>\n",
       "      <td>380.667227</td>\n",
       "      <td>-36.741663</td>\n",
       "      <td>NaN</td>\n",
       "      <td>NaN</td>\n",
       "    </tr>\n",
       "    <tr>\n",
       "      <th>2010-08-01</th>\n",
       "      <td>423.180409</td>\n",
       "      <td>42.513182</td>\n",
       "      <td>NaN</td>\n",
       "      <td>NaN</td>\n",
       "    </tr>\n",
       "    <tr>\n",
       "      <th>2010-09-01</th>\n",
       "      <td>465.293619</td>\n",
       "      <td>42.113210</td>\n",
       "      <td>NaN</td>\n",
       "      <td>NaN</td>\n",
       "    </tr>\n",
       "    <tr>\n",
       "      <th>2010-10-01</th>\n",
       "      <td>469.648398</td>\n",
       "      <td>4.354780</td>\n",
       "      <td>NaN</td>\n",
       "      <td>NaN</td>\n",
       "    </tr>\n",
       "    <tr>\n",
       "      <th>2010-11-01</th>\n",
       "      <td>431.606422</td>\n",
       "      <td>-38.041976</td>\n",
       "      <td>NaN</td>\n",
       "      <td>NaN</td>\n",
       "    </tr>\n",
       "    <tr>\n",
       "      <th>2010-12-01</th>\n",
       "      <td>586.690142</td>\n",
       "      <td>155.083719</td>\n",
       "      <td>174.597124</td>\n",
       "      <td>NaN</td>\n",
       "    </tr>\n",
       "    <tr>\n",
       "      <th>2011-01-01</th>\n",
       "      <td>569.798884</td>\n",
       "      <td>-16.891258</td>\n",
       "      <td>87.842538</td>\n",
       "      <td>NaN</td>\n",
       "    </tr>\n",
       "    <tr>\n",
       "      <th>2011-02-01</th>\n",
       "      <td>398.371236</td>\n",
       "      <td>-171.427648</td>\n",
       "      <td>-17.309897</td>\n",
       "      <td>NaN</td>\n",
       "    </tr>\n",
       "    <tr>\n",
       "      <th>2011-03-01</th>\n",
       "      <td>400.155147</td>\n",
       "      <td>1.783911</td>\n",
       "      <td>-30.313832</td>\n",
       "      <td>NaN</td>\n",
       "    </tr>\n",
       "    <tr>\n",
       "      <th>2011-04-01</th>\n",
       "      <td>397.480893</td>\n",
       "      <td>-2.674254</td>\n",
       "      <td>-17.425617</td>\n",
       "      <td>NaN</td>\n",
       "    </tr>\n",
       "    <tr>\n",
       "      <th>2011-05-01</th>\n",
       "      <td>416.532338</td>\n",
       "      <td>19.051445</td>\n",
       "      <td>28.625048</td>\n",
       "      <td>NaN</td>\n",
       "    </tr>\n",
       "    <tr>\n",
       "      <th>2011-06-01</th>\n",
       "      <td>444.011324</td>\n",
       "      <td>27.478985</td>\n",
       "      <td>26.602434</td>\n",
       "      <td>NaN</td>\n",
       "    </tr>\n",
       "    <tr>\n",
       "      <th>2011-07-01</th>\n",
       "      <td>421.794839</td>\n",
       "      <td>-22.216485</td>\n",
       "      <td>41.127612</td>\n",
       "      <td>NaN</td>\n",
       "    </tr>\n",
       "    <tr>\n",
       "      <th>2011-08-01</th>\n",
       "      <td>463.131731</td>\n",
       "      <td>41.336892</td>\n",
       "      <td>39.951322</td>\n",
       "      <td>NaN</td>\n",
       "    </tr>\n",
       "    <tr>\n",
       "      <th>2011-09-01</th>\n",
       "      <td>514.924097</td>\n",
       "      <td>51.792366</td>\n",
       "      <td>49.630479</td>\n",
       "      <td>NaN</td>\n",
       "    </tr>\n",
       "    <tr>\n",
       "      <th>2011-10-01</th>\n",
       "      <td>534.641157</td>\n",
       "      <td>19.717060</td>\n",
       "      <td>64.992759</td>\n",
       "      <td>519.278877</td>\n",
       "    </tr>\n",
       "    <tr>\n",
       "      <th>2011-11-01</th>\n",
       "      <td>433.646531</td>\n",
       "      <td>-100.994627</td>\n",
       "      <td>2.040108</td>\n",
       "      <td>481.236901</td>\n",
       "    </tr>\n",
       "    <tr>\n",
       "      <th>2011-12-01</th>\n",
       "      <td>842.108252</td>\n",
       "      <td>408.461722</td>\n",
       "      <td>255.418111</td>\n",
       "      <td>636.320620</td>\n",
       "    </tr>\n",
       "    <tr>\n",
       "      <th>2012-01-01</th>\n",
       "      <td>NaN</td>\n",
       "      <td>NaN</td>\n",
       "      <td>NaN</td>\n",
       "      <td>619.429363</td>\n",
       "    </tr>\n",
       "    <tr>\n",
       "      <th>2012-02-01</th>\n",
       "      <td>NaN</td>\n",
       "      <td>NaN</td>\n",
       "      <td>NaN</td>\n",
       "      <td>448.001714</td>\n",
       "    </tr>\n",
       "    <tr>\n",
       "      <th>2012-03-01</th>\n",
       "      <td>NaN</td>\n",
       "      <td>NaN</td>\n",
       "      <td>NaN</td>\n",
       "      <td>449.785626</td>\n",
       "    </tr>\n",
       "    <tr>\n",
       "      <th>2012-04-01</th>\n",
       "      <td>NaN</td>\n",
       "      <td>NaN</td>\n",
       "      <td>NaN</td>\n",
       "      <td>447.111372</td>\n",
       "    </tr>\n",
       "    <tr>\n",
       "      <th>2012-05-01</th>\n",
       "      <td>NaN</td>\n",
       "      <td>NaN</td>\n",
       "      <td>NaN</td>\n",
       "      <td>466.162817</td>\n",
       "    </tr>\n",
       "    <tr>\n",
       "      <th>2012-06-01</th>\n",
       "      <td>NaN</td>\n",
       "      <td>NaN</td>\n",
       "      <td>NaN</td>\n",
       "      <td>493.641802</td>\n",
       "    </tr>\n",
       "    <tr>\n",
       "      <th>2012-07-01</th>\n",
       "      <td>NaN</td>\n",
       "      <td>NaN</td>\n",
       "      <td>NaN</td>\n",
       "      <td>471.425318</td>\n",
       "    </tr>\n",
       "    <tr>\n",
       "      <th>2012-08-01</th>\n",
       "      <td>NaN</td>\n",
       "      <td>NaN</td>\n",
       "      <td>NaN</td>\n",
       "      <td>512.762209</td>\n",
       "    </tr>\n",
       "    <tr>\n",
       "      <th>2012-09-01</th>\n",
       "      <td>NaN</td>\n",
       "      <td>NaN</td>\n",
       "      <td>NaN</td>\n",
       "      <td>564.554576</td>\n",
       "    </tr>\n",
       "    <tr>\n",
       "      <th>2012-10-01</th>\n",
       "      <td>NaN</td>\n",
       "      <td>NaN</td>\n",
       "      <td>NaN</td>\n",
       "      <td>568.909355</td>\n",
       "    </tr>\n",
       "    <tr>\n",
       "      <th>2012-11-01</th>\n",
       "      <td>NaN</td>\n",
       "      <td>NaN</td>\n",
       "      <td>NaN</td>\n",
       "      <td>530.867380</td>\n",
       "    </tr>\n",
       "    <tr>\n",
       "      <th>2012-12-01</th>\n",
       "      <td>NaN</td>\n",
       "      <td>NaN</td>\n",
       "      <td>NaN</td>\n",
       "      <td>685.951099</td>\n",
       "    </tr>\n",
       "    <tr>\n",
       "      <th>2013-01-01</th>\n",
       "      <td>NaN</td>\n",
       "      <td>NaN</td>\n",
       "      <td>NaN</td>\n",
       "      <td>NaN</td>\n",
       "    </tr>\n",
       "    <tr>\n",
       "      <th>2013-02-01</th>\n",
       "      <td>NaN</td>\n",
       "      <td>NaN</td>\n",
       "      <td>NaN</td>\n",
       "      <td>NaN</td>\n",
       "    </tr>\n",
       "    <tr>\n",
       "      <th>2013-03-01</th>\n",
       "      <td>NaN</td>\n",
       "      <td>NaN</td>\n",
       "      <td>NaN</td>\n",
       "      <td>NaN</td>\n",
       "    </tr>\n",
       "    <tr>\n",
       "      <th>2013-04-01</th>\n",
       "      <td>NaN</td>\n",
       "      <td>NaN</td>\n",
       "      <td>NaN</td>\n",
       "      <td>NaN</td>\n",
       "    </tr>\n",
       "    <tr>\n",
       "      <th>2013-05-01</th>\n",
       "      <td>NaN</td>\n",
       "      <td>NaN</td>\n",
       "      <td>NaN</td>\n",
       "      <td>NaN</td>\n",
       "    </tr>\n",
       "    <tr>\n",
       "      <th>2013-06-01</th>\n",
       "      <td>NaN</td>\n",
       "      <td>NaN</td>\n",
       "      <td>NaN</td>\n",
       "      <td>NaN</td>\n",
       "    </tr>\n",
       "    <tr>\n",
       "      <th>2013-07-01</th>\n",
       "      <td>NaN</td>\n",
       "      <td>NaN</td>\n",
       "      <td>NaN</td>\n",
       "      <td>NaN</td>\n",
       "    </tr>\n",
       "    <tr>\n",
       "      <th>2013-08-01</th>\n",
       "      <td>NaN</td>\n",
       "      <td>NaN</td>\n",
       "      <td>NaN</td>\n",
       "      <td>NaN</td>\n",
       "    </tr>\n",
       "    <tr>\n",
       "      <th>2013-09-01</th>\n",
       "      <td>NaN</td>\n",
       "      <td>NaN</td>\n",
       "      <td>NaN</td>\n",
       "      <td>NaN</td>\n",
       "    </tr>\n",
       "    <tr>\n",
       "      <th>2013-10-01</th>\n",
       "      <td>NaN</td>\n",
       "      <td>NaN</td>\n",
       "      <td>NaN</td>\n",
       "      <td>NaN</td>\n",
       "    </tr>\n",
       "    <tr>\n",
       "      <th>2013-11-01</th>\n",
       "      <td>NaN</td>\n",
       "      <td>NaN</td>\n",
       "      <td>NaN</td>\n",
       "      <td>NaN</td>\n",
       "    </tr>\n",
       "  </tbody>\n",
       "</table>\n",
       "</div>"
      ],
      "text/plain": [
       "               Revenue  Sales First Difference  Seasonal First Difference  \\\n",
       "2009-12-01  412.093018                     NaN                        NaN   \n",
       "2010-01-01  481.956346               69.863328                        NaN   \n",
       "2010-02-01  415.681133              -66.275213                        NaN   \n",
       "2010-03-01  430.468980               14.787847                        NaN   \n",
       "2010-04-01  414.906510              -15.562470                        NaN   \n",
       "2010-05-01  387.907291              -26.999219                        NaN   \n",
       "2010-06-01  417.408890               29.501599                        NaN   \n",
       "2010-07-01  380.667227              -36.741663                        NaN   \n",
       "2010-08-01  423.180409               42.513182                        NaN   \n",
       "2010-09-01  465.293619               42.113210                        NaN   \n",
       "2010-10-01  469.648398                4.354780                        NaN   \n",
       "2010-11-01  431.606422              -38.041976                        NaN   \n",
       "2010-12-01  586.690142              155.083719                 174.597124   \n",
       "2011-01-01  569.798884              -16.891258                  87.842538   \n",
       "2011-02-01  398.371236             -171.427648                 -17.309897   \n",
       "2011-03-01  400.155147                1.783911                 -30.313832   \n",
       "2011-04-01  397.480893               -2.674254                 -17.425617   \n",
       "2011-05-01  416.532338               19.051445                  28.625048   \n",
       "2011-06-01  444.011324               27.478985                  26.602434   \n",
       "2011-07-01  421.794839              -22.216485                  41.127612   \n",
       "2011-08-01  463.131731               41.336892                  39.951322   \n",
       "2011-09-01  514.924097               51.792366                  49.630479   \n",
       "2011-10-01  534.641157               19.717060                  64.992759   \n",
       "2011-11-01  433.646531             -100.994627                   2.040108   \n",
       "2011-12-01  842.108252              408.461722                 255.418111   \n",
       "2012-01-01         NaN                     NaN                        NaN   \n",
       "2012-02-01         NaN                     NaN                        NaN   \n",
       "2012-03-01         NaN                     NaN                        NaN   \n",
       "2012-04-01         NaN                     NaN                        NaN   \n",
       "2012-05-01         NaN                     NaN                        NaN   \n",
       "2012-06-01         NaN                     NaN                        NaN   \n",
       "2012-07-01         NaN                     NaN                        NaN   \n",
       "2012-08-01         NaN                     NaN                        NaN   \n",
       "2012-09-01         NaN                     NaN                        NaN   \n",
       "2012-10-01         NaN                     NaN                        NaN   \n",
       "2012-11-01         NaN                     NaN                        NaN   \n",
       "2012-12-01         NaN                     NaN                        NaN   \n",
       "2013-01-01         NaN                     NaN                        NaN   \n",
       "2013-02-01         NaN                     NaN                        NaN   \n",
       "2013-03-01         NaN                     NaN                        NaN   \n",
       "2013-04-01         NaN                     NaN                        NaN   \n",
       "2013-05-01         NaN                     NaN                        NaN   \n",
       "2013-06-01         NaN                     NaN                        NaN   \n",
       "2013-07-01         NaN                     NaN                        NaN   \n",
       "2013-08-01         NaN                     NaN                        NaN   \n",
       "2013-09-01         NaN                     NaN                        NaN   \n",
       "2013-10-01         NaN                     NaN                        NaN   \n",
       "2013-11-01         NaN                     NaN                        NaN   \n",
       "\n",
       "              forecast  \n",
       "2009-12-01         NaN  \n",
       "2010-01-01         NaN  \n",
       "2010-02-01         NaN  \n",
       "2010-03-01         NaN  \n",
       "2010-04-01         NaN  \n",
       "2010-05-01         NaN  \n",
       "2010-06-01         NaN  \n",
       "2010-07-01         NaN  \n",
       "2010-08-01         NaN  \n",
       "2010-09-01         NaN  \n",
       "2010-10-01         NaN  \n",
       "2010-11-01         NaN  \n",
       "2010-12-01         NaN  \n",
       "2011-01-01         NaN  \n",
       "2011-02-01         NaN  \n",
       "2011-03-01         NaN  \n",
       "2011-04-01         NaN  \n",
       "2011-05-01         NaN  \n",
       "2011-06-01         NaN  \n",
       "2011-07-01         NaN  \n",
       "2011-08-01         NaN  \n",
       "2011-09-01         NaN  \n",
       "2011-10-01  519.278877  \n",
       "2011-11-01  481.236901  \n",
       "2011-12-01  636.320620  \n",
       "2012-01-01  619.429363  \n",
       "2012-02-01  448.001714  \n",
       "2012-03-01  449.785626  \n",
       "2012-04-01  447.111372  \n",
       "2012-05-01  466.162817  \n",
       "2012-06-01  493.641802  \n",
       "2012-07-01  471.425318  \n",
       "2012-08-01  512.762209  \n",
       "2012-09-01  564.554576  \n",
       "2012-10-01  568.909355  \n",
       "2012-11-01  530.867380  \n",
       "2012-12-01  685.951099  \n",
       "2013-01-01         NaN  \n",
       "2013-02-01         NaN  \n",
       "2013-03-01         NaN  \n",
       "2013-04-01         NaN  \n",
       "2013-05-01         NaN  \n",
       "2013-06-01         NaN  \n",
       "2013-07-01         NaN  \n",
       "2013-08-01         NaN  \n",
       "2013-09-01         NaN  \n",
       "2013-10-01         NaN  \n",
       "2013-11-01         NaN  "
      ]
     },
     "execution_count": 44,
     "metadata": {},
     "output_type": "execute_result"
    }
   ],
   "source": [
    "future_df"
   ]
  }
 ],
 "metadata": {
  "kernelspec": {
   "display_name": "Python 3",
   "language": "python",
   "name": "python3"
  },
  "language_info": {
   "codemirror_mode": {
    "name": "ipython",
    "version": 3
   },
   "file_extension": ".py",
   "mimetype": "text/x-python",
   "name": "python",
   "nbconvert_exporter": "python",
   "pygments_lexer": "ipython3",
   "version": "3.8.8"
  }
 },
 "nbformat": 4,
 "nbformat_minor": 5
}
