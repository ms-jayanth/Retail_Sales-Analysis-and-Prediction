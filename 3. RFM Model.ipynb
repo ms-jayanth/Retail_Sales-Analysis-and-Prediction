{
 "cells": [
  {
   "cell_type": "markdown",
   "id": "7d546bc3",
   "metadata": {},
   "source": [
    "# Customer Segmentation Using RFM Model"
   ]
  },
  {
   "cell_type": "code",
   "execution_count": 1,
   "id": "3e505754",
   "metadata": {},
   "outputs": [],
   "source": [
    "import numpy as np # linear algebra\n",
    "import pandas as pd # data processing\n",
    "\n",
    "import time, warnings\n",
    "import datetime as dt\n",
    "\n",
    "#visualizations\n",
    "import matplotlib.pyplot as plt\n",
    "from pandas.plotting import scatter_matrix\n",
    "%matplotlib inline\n",
    "import seaborn as sns\n",
    "\n",
    "warnings.filterwarnings(\"ignore\")"
   ]
  },
  {
   "cell_type": "markdown",
   "id": "b4839ab0",
   "metadata": {},
   "source": [
    "## Get the Data"
   ]
  },
  {
   "cell_type": "code",
   "execution_count": 2,
   "id": "9a80a43f",
   "metadata": {},
   "outputs": [
    {
     "data": {
      "text/html": [
       "<div>\n",
       "<style scoped>\n",
       "    .dataframe tbody tr th:only-of-type {\n",
       "        vertical-align: middle;\n",
       "    }\n",
       "\n",
       "    .dataframe tbody tr th {\n",
       "        vertical-align: top;\n",
       "    }\n",
       "\n",
       "    .dataframe thead th {\n",
       "        text-align: right;\n",
       "    }\n",
       "</style>\n",
       "<table border=\"1\" class=\"dataframe\">\n",
       "  <thead>\n",
       "    <tr style=\"text-align: right;\">\n",
       "      <th></th>\n",
       "      <th>sl_no</th>\n",
       "      <th>Invoice</th>\n",
       "      <th>StockCode</th>\n",
       "      <th>Description</th>\n",
       "      <th>Quantity</th>\n",
       "      <th>InvoiceDate</th>\n",
       "      <th>Date</th>\n",
       "      <th>Time</th>\n",
       "      <th>Price</th>\n",
       "      <th>Customer ID</th>\n",
       "      <th>Country</th>\n",
       "      <th>Total_price</th>\n",
       "      <th>gender</th>\n",
       "      <th>Age</th>\n",
       "    </tr>\n",
       "  </thead>\n",
       "  <tbody>\n",
       "    <tr>\n",
       "      <th>824359</th>\n",
       "      <td>824359</td>\n",
       "      <td>581587</td>\n",
       "      <td>22899</td>\n",
       "      <td>CHILDREN'S APRON DOLLY GIRL</td>\n",
       "      <td>6</td>\n",
       "      <td>12-09-2011 12:50</td>\n",
       "      <td>09-12-2011</td>\n",
       "      <td>12:50:00</td>\n",
       "      <td>2.10</td>\n",
       "      <td>12680</td>\n",
       "      <td>France</td>\n",
       "      <td>12.60</td>\n",
       "      <td>male</td>\n",
       "      <td>65</td>\n",
       "    </tr>\n",
       "    <tr>\n",
       "      <th>824360</th>\n",
       "      <td>824360</td>\n",
       "      <td>581587</td>\n",
       "      <td>23254</td>\n",
       "      <td>CHILDRENS CUTLERY DOLLY GIRL</td>\n",
       "      <td>4</td>\n",
       "      <td>12-09-2011 12:50</td>\n",
       "      <td>09-12-2011</td>\n",
       "      <td>12:50:00</td>\n",
       "      <td>4.15</td>\n",
       "      <td>12680</td>\n",
       "      <td>France</td>\n",
       "      <td>16.60</td>\n",
       "      <td>male</td>\n",
       "      <td>65</td>\n",
       "    </tr>\n",
       "    <tr>\n",
       "      <th>824361</th>\n",
       "      <td>824361</td>\n",
       "      <td>581587</td>\n",
       "      <td>23255</td>\n",
       "      <td>CHILDRENS CUTLERY CIRCUS PARADE</td>\n",
       "      <td>4</td>\n",
       "      <td>12-09-2011 12:50</td>\n",
       "      <td>09-12-2011</td>\n",
       "      <td>12:50:00</td>\n",
       "      <td>4.15</td>\n",
       "      <td>12680</td>\n",
       "      <td>France</td>\n",
       "      <td>16.60</td>\n",
       "      <td>male</td>\n",
       "      <td>65</td>\n",
       "    </tr>\n",
       "    <tr>\n",
       "      <th>824362</th>\n",
       "      <td>824362</td>\n",
       "      <td>581587</td>\n",
       "      <td>22138</td>\n",
       "      <td>BAKING SET 9 PIECE RETROSPOT</td>\n",
       "      <td>3</td>\n",
       "      <td>12-09-2011 12:50</td>\n",
       "      <td>09-12-2011</td>\n",
       "      <td>12:50:00</td>\n",
       "      <td>4.95</td>\n",
       "      <td>12680</td>\n",
       "      <td>France</td>\n",
       "      <td>14.85</td>\n",
       "      <td>male</td>\n",
       "      <td>65</td>\n",
       "    </tr>\n",
       "    <tr>\n",
       "      <th>824363</th>\n",
       "      <td>824363</td>\n",
       "      <td>581587</td>\n",
       "      <td>POST</td>\n",
       "      <td>POSTAGE</td>\n",
       "      <td>1</td>\n",
       "      <td>12-09-2011 12:50</td>\n",
       "      <td>09-12-2011</td>\n",
       "      <td>12:50:00</td>\n",
       "      <td>18.00</td>\n",
       "      <td>12680</td>\n",
       "      <td>France</td>\n",
       "      <td>18.00</td>\n",
       "      <td>male</td>\n",
       "      <td>65</td>\n",
       "    </tr>\n",
       "  </tbody>\n",
       "</table>\n",
       "</div>"
      ],
      "text/plain": [
       "         sl_no Invoice StockCode                      Description  Quantity  \\\n",
       "824359  824359  581587     22899     CHILDREN'S APRON DOLLY GIRL          6   \n",
       "824360  824360  581587     23254    CHILDRENS CUTLERY DOLLY GIRL          4   \n",
       "824361  824361  581587     23255  CHILDRENS CUTLERY CIRCUS PARADE         4   \n",
       "824362  824362  581587     22138    BAKING SET 9 PIECE RETROSPOT          3   \n",
       "824363  824363  581587      POST                          POSTAGE         1   \n",
       "\n",
       "             InvoiceDate        Date      Time  Price  Customer ID Country  \\\n",
       "824359  12-09-2011 12:50  09-12-2011  12:50:00   2.10        12680  France   \n",
       "824360  12-09-2011 12:50  09-12-2011  12:50:00   4.15        12680  France   \n",
       "824361  12-09-2011 12:50  09-12-2011  12:50:00   4.15        12680  France   \n",
       "824362  12-09-2011 12:50  09-12-2011  12:50:00   4.95        12680  France   \n",
       "824363  12-09-2011 12:50  09-12-2011  12:50:00  18.00        12680  France   \n",
       "\n",
       "        Total_price gender  Age  \n",
       "824359        12.60   male   65  \n",
       "824360        16.60   male   65  \n",
       "824361        16.60   male   65  \n",
       "824362        14.85   male   65  \n",
       "824363        18.00   male   65  "
      ]
     },
     "execution_count": 2,
     "metadata": {},
     "output_type": "execute_result"
    }
   ],
   "source": [
    "#load the dataset\n",
    "retail_df = pd.read_csv(\"Sales_Data1.csv\")\n",
    "retail_df.tail()"
   ]
  },
  {
   "cell_type": "markdown",
   "id": "931c2fcd",
   "metadata": {},
   "source": [
    "## Prepare the Data"
   ]
  },
  {
   "cell_type": "code",
   "execution_count": 3,
   "id": "954c214d",
   "metadata": {},
   "outputs": [
    {
     "data": {
      "text/plain": [
       "(741301, 14)"
      ]
     },
     "execution_count": 3,
     "metadata": {},
     "output_type": "execute_result"
    }
   ],
   "source": [
    "retail_uk = retail_df[retail_df['Country']=='United Kingdom']\n",
    "#check the shape\n",
    "retail_uk.shape"
   ]
  },
  {
   "cell_type": "code",
   "execution_count": 4,
   "id": "41efc4a5",
   "metadata": {},
   "outputs": [
    {
     "data": {
      "text/plain": [
       "(741301, 14)"
      ]
     },
     "execution_count": 4,
     "metadata": {},
     "output_type": "execute_result"
    }
   ],
   "source": [
    "#remove canceled orders\n",
    "retail_uk = retail_uk[retail_uk['Quantity']>0]\n",
    "retail_uk.shape"
   ]
  },
  {
   "cell_type": "code",
   "execution_count": 5,
   "id": "20f81cef",
   "metadata": {},
   "outputs": [
    {
     "data": {
      "text/plain": [
       "(741301, 14)"
      ]
     },
     "execution_count": 5,
     "metadata": {},
     "output_type": "execute_result"
    }
   ],
   "source": [
    "#remove rows where customerID are NA\n",
    "retail_uk.dropna(subset=['Customer ID'],how='all',inplace=True)\n",
    "retail_uk.shape"
   ]
  },
  {
   "cell_type": "code",
   "execution_count": 6,
   "id": "fcc1452d",
   "metadata": {},
   "outputs": [
    {
     "data": {
      "text/plain": [
       "(233932, 14)"
      ]
     },
     "execution_count": 6,
     "metadata": {},
     "output_type": "execute_result"
    }
   ],
   "source": [
    "#restrict the data to one full year because it's better to use a metric per Months or Years in RFM\n",
    "retail_uk = retail_uk[retail_uk['InvoiceDate']>= \"2010-01-01\"]\n",
    "retail_uk.shape"
   ]
  },
  {
   "cell_type": "code",
   "execution_count": 7,
   "id": "caaea886",
   "metadata": {},
   "outputs": [
    {
     "name": "stdout",
     "output_type": "stream",
     "text": [
      "Summary..\n",
      "Number of transactions:  13698\n",
      "Number of products bought:  4088\n",
      "Number of customers: 3529\n",
      "Percentage of customers NA:  0.0 %\n"
     ]
    }
   ],
   "source": [
    "print(\"Summary..\")\n",
    "#exploring the unique values of each attribute\n",
    "print(\"Number of transactions: \", retail_uk['Invoice'].nunique())\n",
    "print(\"Number of products bought: \",retail_uk['StockCode'].nunique())\n",
    "print(\"Number of customers:\", retail_uk['Customer ID'].nunique() )\n",
    "print(\"Percentage of customers NA: \", round(retail_uk['Customer ID'].isnull().sum() * 100 / len(retail_df),2),\"%\" )"
   ]
  },
  {
   "cell_type": "markdown",
   "id": "2bdc18da",
   "metadata": {},
   "source": [
    "# RFM Analysis"
   ]
  },
  {
   "cell_type": "markdown",
   "id": "24d27d73",
   "metadata": {},
   "source": [
    "## Recency"
   ]
  },
  {
   "cell_type": "code",
   "execution_count": 8,
   "id": "54d03cc1",
   "metadata": {},
   "outputs": [
    {
     "data": {
      "text/plain": [
       "'9-30-2011    9:45'"
      ]
     },
     "execution_count": 8,
     "metadata": {},
     "output_type": "execute_result"
    }
   ],
   "source": [
    "#last date available in our dataset\n",
    "retail_uk['InvoiceDate'].max()"
   ]
  },
  {
   "cell_type": "code",
   "execution_count": 9,
   "id": "6ba76ecc",
   "metadata": {},
   "outputs": [
    {
     "name": "stdout",
     "output_type": "stream",
     "text": [
      "2011-12-10\n"
     ]
    }
   ],
   "source": [
    "now = dt.date(2011,12,10)\n",
    "print(now)"
   ]
  },
  {
   "cell_type": "code",
   "execution_count": 10,
   "id": "9b15a7b2",
   "metadata": {},
   "outputs": [
    {
     "data": {
      "text/html": [
       "<div>\n",
       "<style scoped>\n",
       "    .dataframe tbody tr th:only-of-type {\n",
       "        vertical-align: middle;\n",
       "    }\n",
       "\n",
       "    .dataframe tbody tr th {\n",
       "        vertical-align: top;\n",
       "    }\n",
       "\n",
       "    .dataframe thead th {\n",
       "        text-align: right;\n",
       "    }\n",
       "</style>\n",
       "<table border=\"1\" class=\"dataframe\">\n",
       "  <thead>\n",
       "    <tr style=\"text-align: right;\">\n",
       "      <th></th>\n",
       "      <th>sl_no</th>\n",
       "      <th>Invoice</th>\n",
       "      <th>StockCode</th>\n",
       "      <th>Description</th>\n",
       "      <th>Quantity</th>\n",
       "      <th>InvoiceDate</th>\n",
       "      <th>Date</th>\n",
       "      <th>Time</th>\n",
       "      <th>Price</th>\n",
       "      <th>Customer ID</th>\n",
       "      <th>Country</th>\n",
       "      <th>Total_price</th>\n",
       "      <th>gender</th>\n",
       "      <th>Age</th>\n",
       "      <th>date</th>\n",
       "    </tr>\n",
       "  </thead>\n",
       "  <tbody>\n",
       "    <tr>\n",
       "      <th>91053</th>\n",
       "      <td>91053</td>\n",
       "      <td>501133</td>\n",
       "      <td>22382</td>\n",
       "      <td>LUNCH BAG SPACEBOY DESIGN</td>\n",
       "      <td>10</td>\n",
       "      <td>3-14-2010 10:10</td>\n",
       "      <td>14-03-2010</td>\n",
       "      <td>10:10</td>\n",
       "      <td>1.65</td>\n",
       "      <td>17920</td>\n",
       "      <td>United Kingdom</td>\n",
       "      <td>16.50</td>\n",
       "      <td>female</td>\n",
       "      <td>56</td>\n",
       "      <td>2010-03-14</td>\n",
       "    </tr>\n",
       "    <tr>\n",
       "      <th>91054</th>\n",
       "      <td>91054</td>\n",
       "      <td>501133</td>\n",
       "      <td>22385</td>\n",
       "      <td>JUMBO BAG SPACEBOY DESIGN</td>\n",
       "      <td>10</td>\n",
       "      <td>3-14-2010 10:10</td>\n",
       "      <td>14-03-2010</td>\n",
       "      <td>10:10</td>\n",
       "      <td>1.95</td>\n",
       "      <td>17920</td>\n",
       "      <td>United Kingdom</td>\n",
       "      <td>19.50</td>\n",
       "      <td>female</td>\n",
       "      <td>56</td>\n",
       "      <td>2010-03-14</td>\n",
       "    </tr>\n",
       "    <tr>\n",
       "      <th>91055</th>\n",
       "      <td>91055</td>\n",
       "      <td>501133</td>\n",
       "      <td>15044A</td>\n",
       "      <td>PINK PAPER PARASOL</td>\n",
       "      <td>2</td>\n",
       "      <td>3-14-2010 10:10</td>\n",
       "      <td>14-03-2010</td>\n",
       "      <td>10:10</td>\n",
       "      <td>2.95</td>\n",
       "      <td>17920</td>\n",
       "      <td>United Kingdom</td>\n",
       "      <td>5.90</td>\n",
       "      <td>female</td>\n",
       "      <td>56</td>\n",
       "      <td>2010-03-14</td>\n",
       "    </tr>\n",
       "    <tr>\n",
       "      <th>91056</th>\n",
       "      <td>91056</td>\n",
       "      <td>501133</td>\n",
       "      <td>15044C</td>\n",
       "      <td>PURPLE PAPER PARASOL</td>\n",
       "      <td>1</td>\n",
       "      <td>3-14-2010 10:10</td>\n",
       "      <td>14-03-2010</td>\n",
       "      <td>10:10</td>\n",
       "      <td>2.95</td>\n",
       "      <td>17920</td>\n",
       "      <td>United Kingdom</td>\n",
       "      <td>2.95</td>\n",
       "      <td>female</td>\n",
       "      <td>56</td>\n",
       "      <td>2010-03-14</td>\n",
       "    </tr>\n",
       "    <tr>\n",
       "      <th>91057</th>\n",
       "      <td>91057</td>\n",
       "      <td>501133</td>\n",
       "      <td>15044D</td>\n",
       "      <td>RED PAPER PARASOL</td>\n",
       "      <td>1</td>\n",
       "      <td>3-14-2010 10:10</td>\n",
       "      <td>14-03-2010</td>\n",
       "      <td>10:10</td>\n",
       "      <td>2.95</td>\n",
       "      <td>17920</td>\n",
       "      <td>United Kingdom</td>\n",
       "      <td>2.95</td>\n",
       "      <td>female</td>\n",
       "      <td>56</td>\n",
       "      <td>2010-03-14</td>\n",
       "    </tr>\n",
       "  </tbody>\n",
       "</table>\n",
       "</div>"
      ],
      "text/plain": [
       "       sl_no Invoice StockCode                 Description  Quantity  \\\n",
       "91053  91053  501133     22382  LUNCH BAG SPACEBOY DESIGN         10   \n",
       "91054  91054  501133     22385   JUMBO BAG SPACEBOY DESIGN        10   \n",
       "91055  91055  501133    15044A         PINK PAPER PARASOL          2   \n",
       "91056  91056  501133    15044C        PURPLE PAPER PARASOL         1   \n",
       "91057  91057  501133    15044D           RED PAPER PARASOL         1   \n",
       "\n",
       "           InvoiceDate        Date   Time  Price  Customer ID         Country  \\\n",
       "91053  3-14-2010 10:10  14-03-2010  10:10   1.65        17920  United Kingdom   \n",
       "91054  3-14-2010 10:10  14-03-2010  10:10   1.95        17920  United Kingdom   \n",
       "91055  3-14-2010 10:10  14-03-2010  10:10   2.95        17920  United Kingdom   \n",
       "91056  3-14-2010 10:10  14-03-2010  10:10   2.95        17920  United Kingdom   \n",
       "91057  3-14-2010 10:10  14-03-2010  10:10   2.95        17920  United Kingdom   \n",
       "\n",
       "       Total_price  gender  Age        date  \n",
       "91053        16.50  female   56  2010-03-14  \n",
       "91054        19.50  female   56  2010-03-14  \n",
       "91055         5.90  female   56  2010-03-14  \n",
       "91056         2.95  female   56  2010-03-14  \n",
       "91057         2.95  female   56  2010-03-14  "
      ]
     },
     "execution_count": 10,
     "metadata": {},
     "output_type": "execute_result"
    }
   ],
   "source": [
    "#create a new column called date which contains the date of invoice only\n",
    "retail_uk['date'] = pd.DatetimeIndex(retail_uk['InvoiceDate']).date\n",
    "retail_uk.head()"
   ]
  },
  {
   "cell_type": "code",
   "execution_count": 11,
   "id": "98927406",
   "metadata": {},
   "outputs": [
    {
     "data": {
      "text/html": [
       "<div>\n",
       "<style scoped>\n",
       "    .dataframe tbody tr th:only-of-type {\n",
       "        vertical-align: middle;\n",
       "    }\n",
       "\n",
       "    .dataframe tbody tr th {\n",
       "        vertical-align: top;\n",
       "    }\n",
       "\n",
       "    .dataframe thead th {\n",
       "        text-align: right;\n",
       "    }\n",
       "</style>\n",
       "<table border=\"1\" class=\"dataframe\">\n",
       "  <thead>\n",
       "    <tr style=\"text-align: right;\">\n",
       "      <th></th>\n",
       "      <th>Customer ID</th>\n",
       "      <th>LastPurshaceDate</th>\n",
       "    </tr>\n",
       "  </thead>\n",
       "  <tbody>\n",
       "    <tr>\n",
       "      <th>0</th>\n",
       "      <td>12346</td>\n",
       "      <td>2010-06-30</td>\n",
       "    </tr>\n",
       "    <tr>\n",
       "      <th>1</th>\n",
       "      <td>12745</td>\n",
       "      <td>2010-05-14</td>\n",
       "    </tr>\n",
       "    <tr>\n",
       "      <th>2</th>\n",
       "      <td>12746</td>\n",
       "      <td>2010-06-30</td>\n",
       "    </tr>\n",
       "    <tr>\n",
       "      <th>3</th>\n",
       "      <td>12747</td>\n",
       "      <td>2011-08-22</td>\n",
       "    </tr>\n",
       "    <tr>\n",
       "      <th>4</th>\n",
       "      <td>12748</td>\n",
       "      <td>2011-09-30</td>\n",
       "    </tr>\n",
       "  </tbody>\n",
       "</table>\n",
       "</div>"
      ],
      "text/plain": [
       "   Customer ID LastPurshaceDate\n",
       "0        12346       2010-06-30\n",
       "1        12745       2010-05-14\n",
       "2        12746       2010-06-30\n",
       "3        12747       2011-08-22\n",
       "4        12748       2011-09-30"
      ]
     },
     "execution_count": 11,
     "metadata": {},
     "output_type": "execute_result"
    }
   ],
   "source": [
    "#group by customers and check last date of purshace\n",
    "recency_df = retail_uk.groupby(by='Customer ID', as_index=False)['date'].max()\n",
    "recency_df.columns = ['Customer ID','LastPurshaceDate']\n",
    "recency_df.head()"
   ]
  },
  {
   "cell_type": "code",
   "execution_count": 12,
   "id": "74110aa7",
   "metadata": {},
   "outputs": [
    {
     "data": {
      "text/html": [
       "<div>\n",
       "<style scoped>\n",
       "    .dataframe tbody tr th:only-of-type {\n",
       "        vertical-align: middle;\n",
       "    }\n",
       "\n",
       "    .dataframe tbody tr th {\n",
       "        vertical-align: top;\n",
       "    }\n",
       "\n",
       "    .dataframe thead th {\n",
       "        text-align: right;\n",
       "    }\n",
       "</style>\n",
       "<table border=\"1\" class=\"dataframe\">\n",
       "  <thead>\n",
       "    <tr style=\"text-align: right;\">\n",
       "      <th></th>\n",
       "      <th>Customer ID</th>\n",
       "      <th>LastPurshaceDate</th>\n",
       "      <th>Recency</th>\n",
       "    </tr>\n",
       "  </thead>\n",
       "  <tbody>\n",
       "    <tr>\n",
       "      <th>0</th>\n",
       "      <td>12346</td>\n",
       "      <td>2010-06-30</td>\n",
       "      <td>528</td>\n",
       "    </tr>\n",
       "    <tr>\n",
       "      <th>1</th>\n",
       "      <td>12745</td>\n",
       "      <td>2010-05-14</td>\n",
       "      <td>575</td>\n",
       "    </tr>\n",
       "    <tr>\n",
       "      <th>2</th>\n",
       "      <td>12746</td>\n",
       "      <td>2010-06-30</td>\n",
       "      <td>528</td>\n",
       "    </tr>\n",
       "    <tr>\n",
       "      <th>3</th>\n",
       "      <td>12747</td>\n",
       "      <td>2011-08-22</td>\n",
       "      <td>110</td>\n",
       "    </tr>\n",
       "    <tr>\n",
       "      <th>4</th>\n",
       "      <td>12748</td>\n",
       "      <td>2011-09-30</td>\n",
       "      <td>71</td>\n",
       "    </tr>\n",
       "  </tbody>\n",
       "</table>\n",
       "</div>"
      ],
      "text/plain": [
       "   Customer ID LastPurshaceDate  Recency\n",
       "0        12346       2010-06-30      528\n",
       "1        12745       2010-05-14      575\n",
       "2        12746       2010-06-30      528\n",
       "3        12747       2011-08-22      110\n",
       "4        12748       2011-09-30       71"
      ]
     },
     "execution_count": 12,
     "metadata": {},
     "output_type": "execute_result"
    }
   ],
   "source": [
    "#calculate recency\n",
    "recency_df['Recency'] = recency_df['LastPurshaceDate'].apply(lambda x: (now - x).days)\n",
    "recency_df.head()"
   ]
  },
  {
   "cell_type": "code",
   "execution_count": 13,
   "id": "f24ad207",
   "metadata": {},
   "outputs": [],
   "source": [
    "#drop LastPurchaseDate as we don't need it anymore\n",
    "recency_df.drop('LastPurshaceDate',axis=1,inplace=True)"
   ]
  },
  {
   "cell_type": "markdown",
   "id": "0eea858f",
   "metadata": {},
   "source": [
    "## Frequency"
   ]
  },
  {
   "cell_type": "code",
   "execution_count": 14,
   "id": "316b59fe",
   "metadata": {},
   "outputs": [
    {
     "data": {
      "text/html": [
       "<div>\n",
       "<style scoped>\n",
       "    .dataframe tbody tr th:only-of-type {\n",
       "        vertical-align: middle;\n",
       "    }\n",
       "\n",
       "    .dataframe tbody tr th {\n",
       "        vertical-align: top;\n",
       "    }\n",
       "\n",
       "    .dataframe thead th {\n",
       "        text-align: right;\n",
       "    }\n",
       "</style>\n",
       "<table border=\"1\" class=\"dataframe\">\n",
       "  <thead>\n",
       "    <tr style=\"text-align: right;\">\n",
       "      <th></th>\n",
       "      <th>Customer ID</th>\n",
       "      <th>Frequency</th>\n",
       "    </tr>\n",
       "  </thead>\n",
       "  <tbody>\n",
       "    <tr>\n",
       "      <th>0</th>\n",
       "      <td>12346</td>\n",
       "      <td>2</td>\n",
       "    </tr>\n",
       "    <tr>\n",
       "      <th>1</th>\n",
       "      <td>12745</td>\n",
       "      <td>1</td>\n",
       "    </tr>\n",
       "    <tr>\n",
       "      <th>2</th>\n",
       "      <td>12746</td>\n",
       "      <td>2</td>\n",
       "    </tr>\n",
       "    <tr>\n",
       "      <th>3</th>\n",
       "      <td>12747</td>\n",
       "      <td>11</td>\n",
       "    </tr>\n",
       "    <tr>\n",
       "      <th>4</th>\n",
       "      <td>12748</td>\n",
       "      <td>79</td>\n",
       "    </tr>\n",
       "  </tbody>\n",
       "</table>\n",
       "</div>"
      ],
      "text/plain": [
       "   Customer ID  Frequency\n",
       "0        12346          2\n",
       "1        12745          1\n",
       "2        12746          2\n",
       "3        12747         11\n",
       "4        12748         79"
      ]
     },
     "execution_count": 14,
     "metadata": {},
     "output_type": "execute_result"
    }
   ],
   "source": [
    "#drop duplicates\n",
    "retail_uk_copy = retail_uk\n",
    "retail_uk_copy.drop_duplicates(subset=['Invoice', 'Customer ID'], keep=\"first\", inplace=True)\n",
    "#calculate frequency of purchases\n",
    "frequency_df = retail_uk_copy.groupby(by=['Customer ID'], as_index=False)['Invoice'].count()\n",
    "frequency_df.columns = ['Customer ID','Frequency']\n",
    "frequency_df.head()"
   ]
  },
  {
   "cell_type": "markdown",
   "id": "1812b065",
   "metadata": {},
   "source": [
    "## Monetary"
   ]
  },
  {
   "cell_type": "code",
   "execution_count": 15,
   "id": "b1296203",
   "metadata": {},
   "outputs": [],
   "source": [
    "#create column total cost\n",
    "retail_uk['TotalCost'] = retail_uk['Quantity'] * retail_uk['Price']"
   ]
  },
  {
   "cell_type": "code",
   "execution_count": 16,
   "id": "07c3f7cb",
   "metadata": {},
   "outputs": [
    {
     "data": {
      "text/html": [
       "<div>\n",
       "<style scoped>\n",
       "    .dataframe tbody tr th:only-of-type {\n",
       "        vertical-align: middle;\n",
       "    }\n",
       "\n",
       "    .dataframe tbody tr th {\n",
       "        vertical-align: top;\n",
       "    }\n",
       "\n",
       "    .dataframe thead th {\n",
       "        text-align: right;\n",
       "    }\n",
       "</style>\n",
       "<table border=\"1\" class=\"dataframe\">\n",
       "  <thead>\n",
       "    <tr style=\"text-align: right;\">\n",
       "      <th></th>\n",
       "      <th>Customer ID</th>\n",
       "      <th>Monetary</th>\n",
       "    </tr>\n",
       "  </thead>\n",
       "  <tbody>\n",
       "    <tr>\n",
       "      <th>0</th>\n",
       "      <td>12346</td>\n",
       "      <td>12.67</td>\n",
       "    </tr>\n",
       "    <tr>\n",
       "      <th>1</th>\n",
       "      <td>12745</td>\n",
       "      <td>76.32</td>\n",
       "    </tr>\n",
       "    <tr>\n",
       "      <th>2</th>\n",
       "      <td>12746</td>\n",
       "      <td>26.80</td>\n",
       "    </tr>\n",
       "    <tr>\n",
       "      <th>3</th>\n",
       "      <td>12747</td>\n",
       "      <td>580.78</td>\n",
       "    </tr>\n",
       "    <tr>\n",
       "      <th>4</th>\n",
       "      <td>12748</td>\n",
       "      <td>3378.72</td>\n",
       "    </tr>\n",
       "  </tbody>\n",
       "</table>\n",
       "</div>"
      ],
      "text/plain": [
       "   Customer ID  Monetary\n",
       "0        12346     12.67\n",
       "1        12745     76.32\n",
       "2        12746     26.80\n",
       "3        12747    580.78\n",
       "4        12748   3378.72"
      ]
     },
     "execution_count": 16,
     "metadata": {},
     "output_type": "execute_result"
    }
   ],
   "source": [
    "monetary_df = retail_uk.groupby(by='Customer ID',as_index=False).agg({'TotalCost': 'sum'})\n",
    "monetary_df.columns = ['Customer ID','Monetary']\n",
    "monetary_df.head()"
   ]
  },
  {
   "cell_type": "markdown",
   "id": "b23b793b",
   "metadata": {},
   "source": [
    "## Create RFM Table"
   ]
  },
  {
   "cell_type": "code",
   "execution_count": 17,
   "id": "4290aad8",
   "metadata": {},
   "outputs": [
    {
     "data": {
      "text/html": [
       "<div>\n",
       "<style scoped>\n",
       "    .dataframe tbody tr th:only-of-type {\n",
       "        vertical-align: middle;\n",
       "    }\n",
       "\n",
       "    .dataframe tbody tr th {\n",
       "        vertical-align: top;\n",
       "    }\n",
       "\n",
       "    .dataframe thead th {\n",
       "        text-align: right;\n",
       "    }\n",
       "</style>\n",
       "<table border=\"1\" class=\"dataframe\">\n",
       "  <thead>\n",
       "    <tr style=\"text-align: right;\">\n",
       "      <th></th>\n",
       "      <th>Customer ID</th>\n",
       "      <th>Recency</th>\n",
       "      <th>Frequency</th>\n",
       "    </tr>\n",
       "  </thead>\n",
       "  <tbody>\n",
       "    <tr>\n",
       "      <th>0</th>\n",
       "      <td>12346</td>\n",
       "      <td>528</td>\n",
       "      <td>2</td>\n",
       "    </tr>\n",
       "    <tr>\n",
       "      <th>1</th>\n",
       "      <td>12745</td>\n",
       "      <td>575</td>\n",
       "      <td>1</td>\n",
       "    </tr>\n",
       "    <tr>\n",
       "      <th>2</th>\n",
       "      <td>12746</td>\n",
       "      <td>528</td>\n",
       "      <td>2</td>\n",
       "    </tr>\n",
       "    <tr>\n",
       "      <th>3</th>\n",
       "      <td>12747</td>\n",
       "      <td>110</td>\n",
       "      <td>11</td>\n",
       "    </tr>\n",
       "    <tr>\n",
       "      <th>4</th>\n",
       "      <td>12748</td>\n",
       "      <td>71</td>\n",
       "      <td>79</td>\n",
       "    </tr>\n",
       "  </tbody>\n",
       "</table>\n",
       "</div>"
      ],
      "text/plain": [
       "   Customer ID  Recency  Frequency\n",
       "0        12346      528          2\n",
       "1        12745      575          1\n",
       "2        12746      528          2\n",
       "3        12747      110         11\n",
       "4        12748       71         79"
      ]
     },
     "execution_count": 17,
     "metadata": {},
     "output_type": "execute_result"
    }
   ],
   "source": [
    "#merge recency dataframe with frequency dataframe\n",
    "temp_df = recency_df.merge(frequency_df,on='Customer ID')\n",
    "temp_df.head()"
   ]
  },
  {
   "cell_type": "code",
   "execution_count": 18,
   "id": "309cce1a",
   "metadata": {},
   "outputs": [
    {
     "data": {
      "text/html": [
       "<div>\n",
       "<style scoped>\n",
       "    .dataframe tbody tr th:only-of-type {\n",
       "        vertical-align: middle;\n",
       "    }\n",
       "\n",
       "    .dataframe tbody tr th {\n",
       "        vertical-align: top;\n",
       "    }\n",
       "\n",
       "    .dataframe thead th {\n",
       "        text-align: right;\n",
       "    }\n",
       "</style>\n",
       "<table border=\"1\" class=\"dataframe\">\n",
       "  <thead>\n",
       "    <tr style=\"text-align: right;\">\n",
       "      <th></th>\n",
       "      <th>Recency</th>\n",
       "      <th>Frequency</th>\n",
       "      <th>Monetary</th>\n",
       "    </tr>\n",
       "    <tr>\n",
       "      <th>Customer ID</th>\n",
       "      <th></th>\n",
       "      <th></th>\n",
       "      <th></th>\n",
       "    </tr>\n",
       "  </thead>\n",
       "  <tbody>\n",
       "    <tr>\n",
       "      <th>12346</th>\n",
       "      <td>528</td>\n",
       "      <td>2</td>\n",
       "      <td>12.67</td>\n",
       "    </tr>\n",
       "    <tr>\n",
       "      <th>12745</th>\n",
       "      <td>575</td>\n",
       "      <td>1</td>\n",
       "      <td>76.32</td>\n",
       "    </tr>\n",
       "    <tr>\n",
       "      <th>12746</th>\n",
       "      <td>528</td>\n",
       "      <td>2</td>\n",
       "      <td>26.80</td>\n",
       "    </tr>\n",
       "    <tr>\n",
       "      <th>12747</th>\n",
       "      <td>110</td>\n",
       "      <td>11</td>\n",
       "      <td>580.78</td>\n",
       "    </tr>\n",
       "    <tr>\n",
       "      <th>12748</th>\n",
       "      <td>71</td>\n",
       "      <td>79</td>\n",
       "      <td>3378.72</td>\n",
       "    </tr>\n",
       "  </tbody>\n",
       "</table>\n",
       "</div>"
      ],
      "text/plain": [
       "             Recency  Frequency  Monetary\n",
       "Customer ID                              \n",
       "12346            528          2     12.67\n",
       "12745            575          1     76.32\n",
       "12746            528          2     26.80\n",
       "12747            110         11    580.78\n",
       "12748             71         79   3378.72"
      ]
     },
     "execution_count": 18,
     "metadata": {},
     "output_type": "execute_result"
    }
   ],
   "source": [
    "#merge with monetary dataframe to get a table with the 3 columns\n",
    "rfm_df = temp_df.merge(monetary_df,on='Customer ID')\n",
    "#use CustomerID as index\n",
    "rfm_df.set_index('Customer ID',inplace=True)\n",
    "#check the head\n",
    "rfm_df.head()"
   ]
  },
  {
   "cell_type": "markdown",
   "id": "74ccc04e",
   "metadata": {},
   "source": [
    "## RFM Table Correctness verification"
   ]
  },
  {
   "cell_type": "code",
   "execution_count": 19,
   "id": "e3923dfe",
   "metadata": {},
   "outputs": [
    {
     "data": {
      "text/html": [
       "<div>\n",
       "<style scoped>\n",
       "    .dataframe tbody tr th:only-of-type {\n",
       "        vertical-align: middle;\n",
       "    }\n",
       "\n",
       "    .dataframe tbody tr th {\n",
       "        vertical-align: top;\n",
       "    }\n",
       "\n",
       "    .dataframe thead th {\n",
       "        text-align: right;\n",
       "    }\n",
       "</style>\n",
       "<table border=\"1\" class=\"dataframe\">\n",
       "  <thead>\n",
       "    <tr style=\"text-align: right;\">\n",
       "      <th></th>\n",
       "      <th>sl_no</th>\n",
       "      <th>Invoice</th>\n",
       "      <th>StockCode</th>\n",
       "      <th>Description</th>\n",
       "      <th>Quantity</th>\n",
       "      <th>InvoiceDate</th>\n",
       "      <th>Date</th>\n",
       "      <th>Time</th>\n",
       "      <th>Price</th>\n",
       "      <th>Customer ID</th>\n",
       "      <th>Country</th>\n",
       "      <th>Total_price</th>\n",
       "      <th>gender</th>\n",
       "      <th>Age</th>\n",
       "      <th>date</th>\n",
       "      <th>TotalCost</th>\n",
       "    </tr>\n",
       "  </thead>\n",
       "  <tbody>\n",
       "  </tbody>\n",
       "</table>\n",
       "</div>"
      ],
      "text/plain": [
       "Empty DataFrame\n",
       "Columns: [sl_no, Invoice, StockCode, Description, Quantity, InvoiceDate, Date, Time, Price, Customer ID, Country, Total_price, gender, Age, date, TotalCost]\n",
       "Index: []"
      ]
     },
     "execution_count": 19,
     "metadata": {},
     "output_type": "execute_result"
    }
   ],
   "source": [
    "retail_uk[retail_uk['Customer ID']=='12820']"
   ]
  },
  {
   "cell_type": "code",
   "execution_count": 20,
   "id": "363a5c58",
   "metadata": {},
   "outputs": [
    {
     "data": {
      "text/plain": [
       "True"
      ]
     },
     "execution_count": 20,
     "metadata": {},
     "output_type": "execute_result"
    }
   ],
   "source": [
    "(now - dt.date(2011,9,26)).days == 75"
   ]
  },
  {
   "cell_type": "markdown",
   "id": "5b87f233",
   "metadata": {},
   "source": [
    "## Customer segments with RFM Model"
   ]
  },
  {
   "cell_type": "markdown",
   "id": "03173df5",
   "metadata": {},
   "source": [
    "### RFM Quartiles"
   ]
  },
  {
   "cell_type": "code",
   "execution_count": 21,
   "id": "57170b7b",
   "metadata": {},
   "outputs": [
    {
     "data": {
      "text/html": [
       "<div>\n",
       "<style scoped>\n",
       "    .dataframe tbody tr th:only-of-type {\n",
       "        vertical-align: middle;\n",
       "    }\n",
       "\n",
       "    .dataframe tbody tr th {\n",
       "        vertical-align: top;\n",
       "    }\n",
       "\n",
       "    .dataframe thead th {\n",
       "        text-align: right;\n",
       "    }\n",
       "</style>\n",
       "<table border=\"1\" class=\"dataframe\">\n",
       "  <thead>\n",
       "    <tr style=\"text-align: right;\">\n",
       "      <th></th>\n",
       "      <th>Recency</th>\n",
       "      <th>Frequency</th>\n",
       "      <th>Monetary</th>\n",
       "    </tr>\n",
       "  </thead>\n",
       "  <tbody>\n",
       "    <tr>\n",
       "      <th>0.25</th>\n",
       "      <td>101.0</td>\n",
       "      <td>1.0</td>\n",
       "      <td>16.50</td>\n",
       "    </tr>\n",
       "    <tr>\n",
       "      <th>0.50</th>\n",
       "      <td>180.0</td>\n",
       "      <td>2.0</td>\n",
       "      <td>40.44</td>\n",
       "    </tr>\n",
       "    <tr>\n",
       "      <th>0.75</th>\n",
       "      <td>468.0</td>\n",
       "      <td>4.0</td>\n",
       "      <td>112.35</td>\n",
       "    </tr>\n",
       "  </tbody>\n",
       "</table>\n",
       "</div>"
      ],
      "text/plain": [
       "      Recency  Frequency  Monetary\n",
       "0.25    101.0        1.0     16.50\n",
       "0.50    180.0        2.0     40.44\n",
       "0.75    468.0        4.0    112.35"
      ]
     },
     "execution_count": 21,
     "metadata": {},
     "output_type": "execute_result"
    }
   ],
   "source": [
    "quantiles = rfm_df.quantile(q=[0.25,0.5,0.75])\n",
    "quantiles"
   ]
  },
  {
   "cell_type": "code",
   "execution_count": 22,
   "id": "75680651",
   "metadata": {},
   "outputs": [
    {
     "data": {
      "text/plain": [
       "{'Recency': {0.25: 101.0, 0.5: 180.0, 0.75: 468.0},\n",
       " 'Frequency': {0.25: 1.0, 0.5: 2.0, 0.75: 4.0},\n",
       " 'Monetary': {0.25: 16.5, 0.5: 40.44, 0.75: 112.35}}"
      ]
     },
     "execution_count": 22,
     "metadata": {},
     "output_type": "execute_result"
    }
   ],
   "source": [
    "quantiles.to_dict()"
   ]
  },
  {
   "cell_type": "code",
   "execution_count": 23,
   "id": "a3d54436",
   "metadata": {},
   "outputs": [],
   "source": [
    "### Creation of RFM Segments"
   ]
  },
  {
   "cell_type": "code",
   "execution_count": 24,
   "id": "c9a50ba5",
   "metadata": {},
   "outputs": [],
   "source": [
    "# Arguments (x = value, p = recency, monetary_value, frequency, d = quartiles dict)\n",
    "def RScore(x,p,d):\n",
    "    if x <= d[p][0.25]:\n",
    "        return 4\n",
    "    elif x <= d[p][0.50]:\n",
    "        return 3\n",
    "    elif x <= d[p][0.75]: \n",
    "        return 2\n",
    "    else:\n",
    "        return 1\n",
    "# Arguments (x = value, p = recency, monetary_value, frequency, k = quartiles dict)\n",
    "def FMScore(x,p,d):\n",
    "    if x <= d[p][0.25]:\n",
    "        return 1\n",
    "    elif x <= d[p][0.50]:\n",
    "        return 2\n",
    "    elif x <= d[p][0.75]: \n",
    "        return 3\n",
    "    else:\n",
    "        return 4"
   ]
  },
  {
   "cell_type": "code",
   "execution_count": 25,
   "id": "7ecc1595",
   "metadata": {},
   "outputs": [],
   "source": [
    "#create rfm segmentation table\n",
    "rfm_segmentation = rfm_df\n",
    "rfm_segmentation['R_Quartile'] = rfm_segmentation['Recency'].apply(RScore, args=('Recency',quantiles,))\n",
    "rfm_segmentation['F_Quartile'] = rfm_segmentation['Frequency'].apply(FMScore, args=('Frequency',quantiles,))\n",
    "rfm_segmentation['M_Quartile'] = rfm_segmentation['Monetary'].apply(FMScore, args=('Monetary',quantiles,))"
   ]
  },
  {
   "cell_type": "code",
   "execution_count": 26,
   "id": "2bc10d92",
   "metadata": {},
   "outputs": [
    {
     "data": {
      "text/html": [
       "<div>\n",
       "<style scoped>\n",
       "    .dataframe tbody tr th:only-of-type {\n",
       "        vertical-align: middle;\n",
       "    }\n",
       "\n",
       "    .dataframe tbody tr th {\n",
       "        vertical-align: top;\n",
       "    }\n",
       "\n",
       "    .dataframe thead th {\n",
       "        text-align: right;\n",
       "    }\n",
       "</style>\n",
       "<table border=\"1\" class=\"dataframe\">\n",
       "  <thead>\n",
       "    <tr style=\"text-align: right;\">\n",
       "      <th></th>\n",
       "      <th>Recency</th>\n",
       "      <th>Frequency</th>\n",
       "      <th>Monetary</th>\n",
       "      <th>R_Quartile</th>\n",
       "      <th>F_Quartile</th>\n",
       "      <th>M_Quartile</th>\n",
       "    </tr>\n",
       "    <tr>\n",
       "      <th>Customer ID</th>\n",
       "      <th></th>\n",
       "      <th></th>\n",
       "      <th></th>\n",
       "      <th></th>\n",
       "      <th></th>\n",
       "      <th></th>\n",
       "    </tr>\n",
       "  </thead>\n",
       "  <tbody>\n",
       "    <tr>\n",
       "      <th>12346</th>\n",
       "      <td>528</td>\n",
       "      <td>2</td>\n",
       "      <td>12.67</td>\n",
       "      <td>1</td>\n",
       "      <td>2</td>\n",
       "      <td>1</td>\n",
       "    </tr>\n",
       "    <tr>\n",
       "      <th>12745</th>\n",
       "      <td>575</td>\n",
       "      <td>1</td>\n",
       "      <td>76.32</td>\n",
       "      <td>1</td>\n",
       "      <td>1</td>\n",
       "      <td>3</td>\n",
       "    </tr>\n",
       "    <tr>\n",
       "      <th>12746</th>\n",
       "      <td>528</td>\n",
       "      <td>2</td>\n",
       "      <td>26.80</td>\n",
       "      <td>1</td>\n",
       "      <td>2</td>\n",
       "      <td>2</td>\n",
       "    </tr>\n",
       "    <tr>\n",
       "      <th>12747</th>\n",
       "      <td>110</td>\n",
       "      <td>11</td>\n",
       "      <td>580.78</td>\n",
       "      <td>3</td>\n",
       "      <td>4</td>\n",
       "      <td>4</td>\n",
       "    </tr>\n",
       "    <tr>\n",
       "      <th>12748</th>\n",
       "      <td>71</td>\n",
       "      <td>79</td>\n",
       "      <td>3378.72</td>\n",
       "      <td>4</td>\n",
       "      <td>4</td>\n",
       "      <td>4</td>\n",
       "    </tr>\n",
       "  </tbody>\n",
       "</table>\n",
       "</div>"
      ],
      "text/plain": [
       "             Recency  Frequency  Monetary  R_Quartile  F_Quartile  M_Quartile\n",
       "Customer ID                                                                  \n",
       "12346            528          2     12.67           1           2           1\n",
       "12745            575          1     76.32           1           1           3\n",
       "12746            528          2     26.80           1           2           2\n",
       "12747            110         11    580.78           3           4           4\n",
       "12748             71         79   3378.72           4           4           4"
      ]
     },
     "execution_count": 26,
     "metadata": {},
     "output_type": "execute_result"
    }
   ],
   "source": [
    "rfm_segmentation.head()"
   ]
  },
  {
   "cell_type": "code",
   "execution_count": 27,
   "id": "eb22e3ec",
   "metadata": {},
   "outputs": [
    {
     "data": {
      "text/html": [
       "<div>\n",
       "<style scoped>\n",
       "    .dataframe tbody tr th:only-of-type {\n",
       "        vertical-align: middle;\n",
       "    }\n",
       "\n",
       "    .dataframe tbody tr th {\n",
       "        vertical-align: top;\n",
       "    }\n",
       "\n",
       "    .dataframe thead th {\n",
       "        text-align: right;\n",
       "    }\n",
       "</style>\n",
       "<table border=\"1\" class=\"dataframe\">\n",
       "  <thead>\n",
       "    <tr style=\"text-align: right;\">\n",
       "      <th></th>\n",
       "      <th>Recency</th>\n",
       "      <th>Frequency</th>\n",
       "      <th>Monetary</th>\n",
       "      <th>R_Quartile</th>\n",
       "      <th>F_Quartile</th>\n",
       "      <th>M_Quartile</th>\n",
       "      <th>RFMScore</th>\n",
       "    </tr>\n",
       "    <tr>\n",
       "      <th>Customer ID</th>\n",
       "      <th></th>\n",
       "      <th></th>\n",
       "      <th></th>\n",
       "      <th></th>\n",
       "      <th></th>\n",
       "      <th></th>\n",
       "      <th></th>\n",
       "    </tr>\n",
       "  </thead>\n",
       "  <tbody>\n",
       "    <tr>\n",
       "      <th>12346</th>\n",
       "      <td>528</td>\n",
       "      <td>2</td>\n",
       "      <td>12.67</td>\n",
       "      <td>1</td>\n",
       "      <td>2</td>\n",
       "      <td>1</td>\n",
       "      <td>121</td>\n",
       "    </tr>\n",
       "    <tr>\n",
       "      <th>12745</th>\n",
       "      <td>575</td>\n",
       "      <td>1</td>\n",
       "      <td>76.32</td>\n",
       "      <td>1</td>\n",
       "      <td>1</td>\n",
       "      <td>3</td>\n",
       "      <td>113</td>\n",
       "    </tr>\n",
       "    <tr>\n",
       "      <th>12746</th>\n",
       "      <td>528</td>\n",
       "      <td>2</td>\n",
       "      <td>26.80</td>\n",
       "      <td>1</td>\n",
       "      <td>2</td>\n",
       "      <td>2</td>\n",
       "      <td>122</td>\n",
       "    </tr>\n",
       "    <tr>\n",
       "      <th>12747</th>\n",
       "      <td>110</td>\n",
       "      <td>11</td>\n",
       "      <td>580.78</td>\n",
       "      <td>3</td>\n",
       "      <td>4</td>\n",
       "      <td>4</td>\n",
       "      <td>344</td>\n",
       "    </tr>\n",
       "    <tr>\n",
       "      <th>12748</th>\n",
       "      <td>71</td>\n",
       "      <td>79</td>\n",
       "      <td>3378.72</td>\n",
       "      <td>4</td>\n",
       "      <td>4</td>\n",
       "      <td>4</td>\n",
       "      <td>444</td>\n",
       "    </tr>\n",
       "  </tbody>\n",
       "</table>\n",
       "</div>"
      ],
      "text/plain": [
       "             Recency  Frequency  Monetary  R_Quartile  F_Quartile  M_Quartile  \\\n",
       "Customer ID                                                                     \n",
       "12346            528          2     12.67           1           2           1   \n",
       "12745            575          1     76.32           1           1           3   \n",
       "12746            528          2     26.80           1           2           2   \n",
       "12747            110         11    580.78           3           4           4   \n",
       "12748             71         79   3378.72           4           4           4   \n",
       "\n",
       "            RFMScore  \n",
       "Customer ID           \n",
       "12346            121  \n",
       "12745            113  \n",
       "12746            122  \n",
       "12747            344  \n",
       "12748            444  "
      ]
     },
     "execution_count": 27,
     "metadata": {},
     "output_type": "execute_result"
    }
   ],
   "source": [
    "rfm_segmentation['RFMScore'] = rfm_segmentation.R_Quartile.map(str) \\\n",
    "                            + rfm_segmentation.F_Quartile.map(str) \\\n",
    "                            + rfm_segmentation.M_Quartile.map(str)\n",
    "rfm_segmentation.head()"
   ]
  },
  {
   "cell_type": "code",
   "execution_count": 28,
   "id": "4b5f46d7",
   "metadata": {},
   "outputs": [
    {
     "data": {
      "text/html": [
       "<div>\n",
       "<style scoped>\n",
       "    .dataframe tbody tr th:only-of-type {\n",
       "        vertical-align: middle;\n",
       "    }\n",
       "\n",
       "    .dataframe tbody tr th {\n",
       "        vertical-align: top;\n",
       "    }\n",
       "\n",
       "    .dataframe thead th {\n",
       "        text-align: right;\n",
       "    }\n",
       "</style>\n",
       "<table border=\"1\" class=\"dataframe\">\n",
       "  <thead>\n",
       "    <tr style=\"text-align: right;\">\n",
       "      <th></th>\n",
       "      <th>Recency</th>\n",
       "      <th>Frequency</th>\n",
       "      <th>Monetary</th>\n",
       "      <th>R_Quartile</th>\n",
       "      <th>F_Quartile</th>\n",
       "      <th>M_Quartile</th>\n",
       "      <th>RFMScore</th>\n",
       "    </tr>\n",
       "    <tr>\n",
       "      <th>Customer ID</th>\n",
       "      <th></th>\n",
       "      <th></th>\n",
       "      <th></th>\n",
       "      <th></th>\n",
       "      <th></th>\n",
       "      <th></th>\n",
       "      <th></th>\n",
       "    </tr>\n",
       "  </thead>\n",
       "  <tbody>\n",
       "    <tr>\n",
       "      <th>18102</th>\n",
       "      <td>73</td>\n",
       "      <td>68</td>\n",
       "      <td>41437.99</td>\n",
       "      <td>4</td>\n",
       "      <td>4</td>\n",
       "      <td>4</td>\n",
       "      <td>444</td>\n",
       "    </tr>\n",
       "    <tr>\n",
       "      <th>17949</th>\n",
       "      <td>71</td>\n",
       "      <td>57</td>\n",
       "      <td>38850.10</td>\n",
       "      <td>4</td>\n",
       "      <td>4</td>\n",
       "      <td>4</td>\n",
       "      <td>444</td>\n",
       "    </tr>\n",
       "    <tr>\n",
       "      <th>17450</th>\n",
       "      <td>71</td>\n",
       "      <td>34</td>\n",
       "      <td>25696.32</td>\n",
       "      <td>4</td>\n",
       "      <td>4</td>\n",
       "      <td>4</td>\n",
       "      <td>444</td>\n",
       "    </tr>\n",
       "    <tr>\n",
       "      <th>16013</th>\n",
       "      <td>71</td>\n",
       "      <td>30</td>\n",
       "      <td>13215.34</td>\n",
       "      <td>4</td>\n",
       "      <td>4</td>\n",
       "      <td>4</td>\n",
       "      <td>444</td>\n",
       "    </tr>\n",
       "    <tr>\n",
       "      <th>15769</th>\n",
       "      <td>79</td>\n",
       "      <td>22</td>\n",
       "      <td>9603.39</td>\n",
       "      <td>4</td>\n",
       "      <td>4</td>\n",
       "      <td>4</td>\n",
       "      <td>444</td>\n",
       "    </tr>\n",
       "    <tr>\n",
       "      <th>13694</th>\n",
       "      <td>72</td>\n",
       "      <td>66</td>\n",
       "      <td>9328.01</td>\n",
       "      <td>4</td>\n",
       "      <td>4</td>\n",
       "      <td>4</td>\n",
       "      <td>444</td>\n",
       "    </tr>\n",
       "    <tr>\n",
       "      <th>16029</th>\n",
       "      <td>81</td>\n",
       "      <td>43</td>\n",
       "      <td>8010.32</td>\n",
       "      <td>4</td>\n",
       "      <td>4</td>\n",
       "      <td>4</td>\n",
       "      <td>444</td>\n",
       "    </tr>\n",
       "    <tr>\n",
       "      <th>12931</th>\n",
       "      <td>101</td>\n",
       "      <td>26</td>\n",
       "      <td>7575.77</td>\n",
       "      <td>4</td>\n",
       "      <td>4</td>\n",
       "      <td>4</td>\n",
       "      <td>444</td>\n",
       "    </tr>\n",
       "    <tr>\n",
       "      <th>15061</th>\n",
       "      <td>71</td>\n",
       "      <td>47</td>\n",
       "      <td>7436.11</td>\n",
       "      <td>4</td>\n",
       "      <td>4</td>\n",
       "      <td>4</td>\n",
       "      <td>444</td>\n",
       "    </tr>\n",
       "    <tr>\n",
       "      <th>16422</th>\n",
       "      <td>74</td>\n",
       "      <td>67</td>\n",
       "      <td>7417.07</td>\n",
       "      <td>4</td>\n",
       "      <td>4</td>\n",
       "      <td>4</td>\n",
       "      <td>444</td>\n",
       "    </tr>\n",
       "  </tbody>\n",
       "</table>\n",
       "</div>"
      ],
      "text/plain": [
       "             Recency  Frequency  Monetary  R_Quartile  F_Quartile  M_Quartile  \\\n",
       "Customer ID                                                                     \n",
       "18102             73         68  41437.99           4           4           4   \n",
       "17949             71         57  38850.10           4           4           4   \n",
       "17450             71         34  25696.32           4           4           4   \n",
       "16013             71         30  13215.34           4           4           4   \n",
       "15769             79         22   9603.39           4           4           4   \n",
       "13694             72         66   9328.01           4           4           4   \n",
       "16029             81         43   8010.32           4           4           4   \n",
       "12931            101         26   7575.77           4           4           4   \n",
       "15061             71         47   7436.11           4           4           4   \n",
       "16422             74         67   7417.07           4           4           4   \n",
       "\n",
       "            RFMScore  \n",
       "Customer ID           \n",
       "18102            444  \n",
       "17949            444  \n",
       "17450            444  \n",
       "16013            444  \n",
       "15769            444  \n",
       "13694            444  \n",
       "16029            444  \n",
       "12931            444  \n",
       "15061            444  \n",
       "16422            444  "
      ]
     },
     "execution_count": 28,
     "metadata": {},
     "output_type": "execute_result"
    }
   ],
   "source": [
    "rfm_segmentation[rfm_segmentation['RFMScore']=='444'].sort_values('Monetary', ascending=False).head(10)"
   ]
  },
  {
   "cell_type": "markdown",
   "id": "debcbbff",
   "metadata": {},
   "source": [
    "### How many customers do we have in each segment?"
   ]
  },
  {
   "cell_type": "code",
   "execution_count": 29,
   "id": "ad6eece7",
   "metadata": {},
   "outputs": [
    {
     "name": "stdout",
     "output_type": "stream",
     "text": [
      "Best Customers:  287\n",
      "Loyal Customers:  827\n",
      "Big Spenders:  882\n",
      "Almost Lost:  63\n",
      "Lost Customers:  19\n",
      "Lost Cheap Customers:  302\n"
     ]
    }
   ],
   "source": [
    "print(\"Best Customers: \",len(rfm_segmentation[rfm_segmentation['RFMScore']=='444']))\n",
    "print('Loyal Customers: ',len(rfm_segmentation[rfm_segmentation['F_Quartile']==4]))\n",
    "print(\"Big Spenders: \",len(rfm_segmentation[rfm_segmentation['M_Quartile']==4]))\n",
    "print('Almost Lost: ', len(rfm_segmentation[rfm_segmentation['RFMScore']=='244']))\n",
    "print('Lost Customers: ',len(rfm_segmentation[rfm_segmentation['RFMScore']=='144']))\n",
    "print('Lost Cheap Customers: ',len(rfm_segmentation[rfm_segmentation['RFMScore']=='111']))"
   ]
  }
 ],
 "metadata": {
  "kernelspec": {
   "display_name": "Python 3",
   "language": "python",
   "name": "python3"
  },
  "language_info": {
   "codemirror_mode": {
    "name": "ipython",
    "version": 3
   },
   "file_extension": ".py",
   "mimetype": "text/x-python",
   "name": "python",
   "nbconvert_exporter": "python",
   "pygments_lexer": "ipython3",
   "version": "3.8.8"
  }
 },
 "nbformat": 4,
 "nbformat_minor": 5
}
